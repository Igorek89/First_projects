{
 "cells": [
  {
   "cell_type": "markdown",
   "metadata": {
    "id": "fX_zdgdTsHTP"
   },
   "source": [
    "# Промышленность — задача проекта\n",
    "\n",
    "Оптимизация производственных расходов в металлургическом комбинате. Для уменьшения потребление электроэнергии на этапе обработки стали предстоит построить модель, которая предскажет ее температуру.\n",
    "\n",
    "### Описание этапа обработки\n",
    "\n",
    "Сталь обрабатывают в металлическом ковше вместимостью около 100 тонн. Чтобы ковш выдерживал высокие температуры, изнутри его облицовывают огнеупорным кирпичом. Расплавленную сталь заливают в ковш и подогревают до нужной температуры графитовыми электродами. Они установлены в крышке ковша. \n",
    "\n",
    "Из сплава выводится сера (десульфурация), добавлением примесей корректируется химический состав и отбираются пробы. Сталь легируют — изменяют её состав — подавая куски сплава из бункера для сыпучих материалов или проволоку через специальный трайб-аппарат (англ. tribe, «масса»).\n",
    "\n",
    "Перед тем как первый раз ввести легирующие добавки, измеряют температуру стали и производят её химический анализ. Потом температуру на несколько минут повышают, добавляют легирующие материалы и продувают сплав инертным газом. Затем его перемешивают и снова проводят измерения. Такой цикл повторяется до достижения целевого химического состава и оптимальной температуры плавки.\n",
    "\n",
    "Тогда расплавленная сталь отправляется на доводку металла или поступает в машину непрерывной разливки. Оттуда готовый продукт выходит в виде заготовок-слябов (англ. *slab*, «плита»).\n",
    "\n",
    "### Описание данных\n",
    "\n",
    "Данные состоят из файлов, полученных из разных источников:\n",
    "\n",
    "- `data_arc.csv` — данные об электродах;\n",
    "- `data_bulk.csv` — данные о подаче сыпучих материалов (объём);\n",
    "- `data_bulk_time.csv` *—* данные о подаче сыпучих материалов (время);\n",
    "- `data_gas.csv` — данные о продувке сплава газом;\n",
    "- `data_temp.csv` — результаты измерения температуры;\n",
    "- `data_wire.csv` — данные о проволочных материалах (объём);\n",
    "- `data_wire_time.csv` — данные о проволочных материалах (время).\n",
    "\n",
    "Во всех файлах столбец `key` содержит номер партии. В файлах может быть несколько строк с одинаковым значением `key`: они соответствуют разным итерациям обработки.\n",
    "\n"
   ]
  },
  {
   "cell_type": "markdown",
   "metadata": {
    "id": "ZLQ6ZlnnsHTQ"
   },
   "source": [
    "## Оглавление\n",
    "1. [Загрузка и просмотр данных](#1)\n",
    "2. [Иследовательский анализ](#2)\n",
    "3. [Подготовка данных для обучения](#3)\n",
    "4. [Обучение моделей](#4)\n",
    "   - [Обучение Lasso и отбор признаков](#4.1)\n",
    "   - [Обучение RandomForestRegressor](#4.2)\n",
    "   - [Обучение CatBoostRegressor](#4.3)\n",
    "5. [Проверка модели на тестовых данных](#5)\n",
    "6. [Вывод](#6)"
   ]
  },
  {
   "cell_type": "code",
   "execution_count": 4,
   "metadata": {
    "id": "hA_L_skYsHTR"
   },
   "outputs": [],
   "source": [
    "import pandas as pd\n",
    "import numpy as np\n",
    "import seaborn as sns\n",
    "from matplotlib import pyplot as plt\n",
    "import warnings\n",
    "warnings.filterwarnings('ignore')"
   ]
  },
  {
   "cell_type": "code",
   "execution_count": 5,
   "metadata": {
    "id": "vMdofZntsHTS"
   },
   "outputs": [],
   "source": [
    "from sklearn.tree import DecisionTreeRegressor\n",
    "from sklearn.ensemble import RandomForestRegressor\n",
    "from sklearn.model_selection import train_test_split, GridSearchCV\n",
    "from sklearn.metrics import mean_absolute_error, make_scorer\n",
    "from sklearn.linear_model import Lasso\n",
    "from sklearn.preprocessing import StandardScaler\n",
    "from catboost import CatBoostRegressor\n",
    "from sklearn.pipeline import Pipeline"
   ]
  },
  {
   "cell_type": "markdown",
   "metadata": {
    "id": "caSPwxZLsHTT"
   },
   "source": [
    "<a id='1'>\n",
    "    \n",
    "## 1. Загрузка и просмотр данных"
   ]
  },
  {
   "cell_type": "code",
   "execution_count": 12,
   "metadata": {
    "id": "zUNYcoMesHTT"
   },
   "outputs": [],
   "source": [
    "df_arc = pd.read_csv(r'C:\\Users\\Admin\\Desktop\\финальный проект\\final_steel\\data_arc.csv', parse_dates=[1, 2])\n",
    "df_bulk = pd.read_csv(r'C:\\Users\\Admin\\Desktop\\финальный проект\\final_steel\\data_bulk.csv')\n",
    "df_bulk_time = pd.read_csv(r'C:\\Users\\Admin\\Desktop\\финальный проект\\final_steel\\data_bulk_time.csv', \n",
    "                           parse_dates=[1,2,3,4,5,6,7,8,9,10,11,12,13,14,15])\n",
    "df_gas = pd.read_csv(r'C:\\Users\\Admin\\Desktop\\финальный проект\\final_steel\\data_gas.csv')\n",
    "df_temp = pd.read_csv(r'C:\\Users\\Admin\\Desktop\\финальный проект\\final_steel\\data_temp.csv', parse_dates=[1])\n",
    "df_wire = pd.read_csv(r'C:\\Users\\Admin\\Desktop\\финальный проект\\final_steel\\\\data_wire.csv')\n",
    "df_wire_time = pd.read_csv(r'C:\\Users\\Admin\\Desktop\\финальный проект\\final_steel\\data_wire_time.csv',\n",
    "                           parse_dates=[1, 2, 3, 4, 5, 6, 7, 8, 9])"
   ]
  },
  {
   "cell_type": "code",
   "execution_count": 13,
   "metadata": {
    "id": "2gVBcihQsHTU",
    "outputId": "62806e21-8edb-49ca-bab7-b5a0a5615c63"
   },
   "outputs": [
    {
     "data": {
      "text/html": [
       "<div>\n",
       "<style scoped>\n",
       "    .dataframe tbody tr th:only-of-type {\n",
       "        vertical-align: middle;\n",
       "    }\n",
       "\n",
       "    .dataframe tbody tr th {\n",
       "        vertical-align: top;\n",
       "    }\n",
       "\n",
       "    .dataframe thead th {\n",
       "        text-align: right;\n",
       "    }\n",
       "</style>\n",
       "<table border=\"1\" class=\"dataframe\">\n",
       "  <thead>\n",
       "    <tr style=\"text-align: right;\">\n",
       "      <th></th>\n",
       "      <th>key</th>\n",
       "      <th>Начало нагрева дугой</th>\n",
       "      <th>Конец нагрева дугой</th>\n",
       "      <th>Активная мощность</th>\n",
       "      <th>Реактивная мощность</th>\n",
       "    </tr>\n",
       "  </thead>\n",
       "  <tbody>\n",
       "    <tr>\n",
       "      <th>0</th>\n",
       "      <td>1</td>\n",
       "      <td>2019-05-03 11:02:14</td>\n",
       "      <td>2019-05-03 11:06:02</td>\n",
       "      <td>0.976059</td>\n",
       "      <td>0.687084</td>\n",
       "    </tr>\n",
       "    <tr>\n",
       "      <th>1</th>\n",
       "      <td>1</td>\n",
       "      <td>2019-05-03 11:07:28</td>\n",
       "      <td>2019-05-03 11:10:33</td>\n",
       "      <td>0.805607</td>\n",
       "      <td>0.520285</td>\n",
       "    </tr>\n",
       "    <tr>\n",
       "      <th>2</th>\n",
       "      <td>1</td>\n",
       "      <td>2019-05-03 11:11:44</td>\n",
       "      <td>2019-05-03 11:14:36</td>\n",
       "      <td>0.744363</td>\n",
       "      <td>0.498805</td>\n",
       "    </tr>\n",
       "    <tr>\n",
       "      <th>3</th>\n",
       "      <td>1</td>\n",
       "      <td>2019-05-03 11:18:14</td>\n",
       "      <td>2019-05-03 11:24:19</td>\n",
       "      <td>1.659363</td>\n",
       "      <td>1.062669</td>\n",
       "    </tr>\n",
       "    <tr>\n",
       "      <th>4</th>\n",
       "      <td>1</td>\n",
       "      <td>2019-05-03 11:26:09</td>\n",
       "      <td>2019-05-03 11:28:37</td>\n",
       "      <td>0.692755</td>\n",
       "      <td>0.414397</td>\n",
       "    </tr>\n",
       "  </tbody>\n",
       "</table>\n",
       "</div>"
      ],
      "text/plain": [
       "   key Начало нагрева дугой Конец нагрева дугой  Активная мощность  \\\n",
       "0    1  2019-05-03 11:02:14 2019-05-03 11:06:02           0.976059   \n",
       "1    1  2019-05-03 11:07:28 2019-05-03 11:10:33           0.805607   \n",
       "2    1  2019-05-03 11:11:44 2019-05-03 11:14:36           0.744363   \n",
       "3    1  2019-05-03 11:18:14 2019-05-03 11:24:19           1.659363   \n",
       "4    1  2019-05-03 11:26:09 2019-05-03 11:28:37           0.692755   \n",
       "\n",
       "   Реактивная мощность  \n",
       "0             0.687084  \n",
       "1             0.520285  \n",
       "2             0.498805  \n",
       "3             1.062669  \n",
       "4             0.414397  "
      ]
     },
     "execution_count": 13,
     "metadata": {},
     "output_type": "execute_result"
    }
   ],
   "source": [
    "df_arc.head()"
   ]
  },
  {
   "cell_type": "code",
   "execution_count": 14,
   "metadata": {
    "id": "53k86bp5sHTV",
    "outputId": "30da0a8b-230f-421e-9060-f22b6bb12f0d"
   },
   "outputs": [
    {
     "data": {
      "text/html": [
       "<div>\n",
       "<style scoped>\n",
       "    .dataframe tbody tr th:only-of-type {\n",
       "        vertical-align: middle;\n",
       "    }\n",
       "\n",
       "    .dataframe tbody tr th {\n",
       "        vertical-align: top;\n",
       "    }\n",
       "\n",
       "    .dataframe thead th {\n",
       "        text-align: right;\n",
       "    }\n",
       "</style>\n",
       "<table border=\"1\" class=\"dataframe\">\n",
       "  <thead>\n",
       "    <tr style=\"text-align: right;\">\n",
       "      <th></th>\n",
       "      <th>key</th>\n",
       "      <th>Активная мощность</th>\n",
       "      <th>Реактивная мощность</th>\n",
       "    </tr>\n",
       "  </thead>\n",
       "  <tbody>\n",
       "    <tr>\n",
       "      <th>count</th>\n",
       "      <td>14876.000000</td>\n",
       "      <td>14876.000000</td>\n",
       "      <td>14876.000000</td>\n",
       "    </tr>\n",
       "    <tr>\n",
       "      <th>mean</th>\n",
       "      <td>1615.220422</td>\n",
       "      <td>0.670441</td>\n",
       "      <td>0.452592</td>\n",
       "    </tr>\n",
       "    <tr>\n",
       "      <th>std</th>\n",
       "      <td>934.571502</td>\n",
       "      <td>0.408159</td>\n",
       "      <td>5.878702</td>\n",
       "    </tr>\n",
       "    <tr>\n",
       "      <th>min</th>\n",
       "      <td>1.000000</td>\n",
       "      <td>0.030002</td>\n",
       "      <td>-715.504924</td>\n",
       "    </tr>\n",
       "    <tr>\n",
       "      <th>25%</th>\n",
       "      <td>806.000000</td>\n",
       "      <td>0.395297</td>\n",
       "      <td>0.290991</td>\n",
       "    </tr>\n",
       "    <tr>\n",
       "      <th>50%</th>\n",
       "      <td>1617.000000</td>\n",
       "      <td>0.555517</td>\n",
       "      <td>0.415962</td>\n",
       "    </tr>\n",
       "    <tr>\n",
       "      <th>75%</th>\n",
       "      <td>2429.000000</td>\n",
       "      <td>0.857034</td>\n",
       "      <td>0.637371</td>\n",
       "    </tr>\n",
       "    <tr>\n",
       "      <th>max</th>\n",
       "      <td>3241.000000</td>\n",
       "      <td>3.731596</td>\n",
       "      <td>2.676388</td>\n",
       "    </tr>\n",
       "  </tbody>\n",
       "</table>\n",
       "</div>"
      ],
      "text/plain": [
       "                key  Активная мощность  Реактивная мощность\n",
       "count  14876.000000       14876.000000         14876.000000\n",
       "mean    1615.220422           0.670441             0.452592\n",
       "std      934.571502           0.408159             5.878702\n",
       "min        1.000000           0.030002          -715.504924\n",
       "25%      806.000000           0.395297             0.290991\n",
       "50%     1617.000000           0.555517             0.415962\n",
       "75%     2429.000000           0.857034             0.637371\n",
       "max     3241.000000           3.731596             2.676388"
      ]
     },
     "execution_count": 14,
     "metadata": {},
     "output_type": "execute_result"
    }
   ],
   "source": [
    "df_arc.describe()"
   ]
  },
  {
   "cell_type": "code",
   "execution_count": 15,
   "metadata": {
    "id": "7B6lCa0xsHTV",
    "outputId": "846a7252-caf5-47cd-e92b-a5de9c74cc9a"
   },
   "outputs": [
    {
     "name": "stdout",
     "output_type": "stream",
     "text": [
      "<class 'pandas.core.frame.DataFrame'>\n",
      "RangeIndex: 14876 entries, 0 to 14875\n",
      "Data columns (total 5 columns):\n",
      " #   Column                Non-Null Count  Dtype         \n",
      "---  ------                --------------  -----         \n",
      " 0   key                   14876 non-null  int64         \n",
      " 1   Начало нагрева дугой  14876 non-null  datetime64[ns]\n",
      " 2   Конец нагрева дугой   14876 non-null  datetime64[ns]\n",
      " 3   Активная мощность     14876 non-null  float64       \n",
      " 4   Реактивная мощность   14876 non-null  float64       \n",
      "dtypes: datetime64[ns](2), float64(2), int64(1)\n",
      "memory usage: 581.2 KB\n"
     ]
    }
   ],
   "source": [
    "df_arc.info()"
   ]
  },
  {
   "cell_type": "code",
   "execution_count": 16,
   "metadata": {
    "id": "tFo018jzsHTW",
    "outputId": "c8f1bd7c-aa83-44ec-df54-27bec654ac93"
   },
   "outputs": [
    {
     "data": {
      "text/html": [
       "<div>\n",
       "<style scoped>\n",
       "    .dataframe tbody tr th:only-of-type {\n",
       "        vertical-align: middle;\n",
       "    }\n",
       "\n",
       "    .dataframe tbody tr th {\n",
       "        vertical-align: top;\n",
       "    }\n",
       "\n",
       "    .dataframe thead th {\n",
       "        text-align: right;\n",
       "    }\n",
       "</style>\n",
       "<table border=\"1\" class=\"dataframe\">\n",
       "  <thead>\n",
       "    <tr style=\"text-align: right;\">\n",
       "      <th></th>\n",
       "      <th>key</th>\n",
       "      <th>Bulk 1</th>\n",
       "      <th>Bulk 2</th>\n",
       "      <th>Bulk 3</th>\n",
       "      <th>Bulk 4</th>\n",
       "      <th>Bulk 5</th>\n",
       "      <th>Bulk 6</th>\n",
       "      <th>Bulk 7</th>\n",
       "      <th>Bulk 8</th>\n",
       "      <th>Bulk 9</th>\n",
       "      <th>Bulk 10</th>\n",
       "      <th>Bulk 11</th>\n",
       "      <th>Bulk 12</th>\n",
       "      <th>Bulk 13</th>\n",
       "      <th>Bulk 14</th>\n",
       "      <th>Bulk 15</th>\n",
       "    </tr>\n",
       "  </thead>\n",
       "  <tbody>\n",
       "    <tr>\n",
       "      <th>0</th>\n",
       "      <td>1</td>\n",
       "      <td>NaN</td>\n",
       "      <td>NaN</td>\n",
       "      <td>NaN</td>\n",
       "      <td>43.0</td>\n",
       "      <td>NaN</td>\n",
       "      <td>NaN</td>\n",
       "      <td>NaN</td>\n",
       "      <td>NaN</td>\n",
       "      <td>NaN</td>\n",
       "      <td>NaN</td>\n",
       "      <td>NaN</td>\n",
       "      <td>206.0</td>\n",
       "      <td>NaN</td>\n",
       "      <td>150.0</td>\n",
       "      <td>154.0</td>\n",
       "    </tr>\n",
       "    <tr>\n",
       "      <th>1</th>\n",
       "      <td>2</td>\n",
       "      <td>NaN</td>\n",
       "      <td>NaN</td>\n",
       "      <td>NaN</td>\n",
       "      <td>73.0</td>\n",
       "      <td>NaN</td>\n",
       "      <td>NaN</td>\n",
       "      <td>NaN</td>\n",
       "      <td>NaN</td>\n",
       "      <td>NaN</td>\n",
       "      <td>NaN</td>\n",
       "      <td>NaN</td>\n",
       "      <td>206.0</td>\n",
       "      <td>NaN</td>\n",
       "      <td>149.0</td>\n",
       "      <td>154.0</td>\n",
       "    </tr>\n",
       "    <tr>\n",
       "      <th>2</th>\n",
       "      <td>3</td>\n",
       "      <td>NaN</td>\n",
       "      <td>NaN</td>\n",
       "      <td>NaN</td>\n",
       "      <td>34.0</td>\n",
       "      <td>NaN</td>\n",
       "      <td>NaN</td>\n",
       "      <td>NaN</td>\n",
       "      <td>NaN</td>\n",
       "      <td>NaN</td>\n",
       "      <td>NaN</td>\n",
       "      <td>NaN</td>\n",
       "      <td>205.0</td>\n",
       "      <td>NaN</td>\n",
       "      <td>152.0</td>\n",
       "      <td>153.0</td>\n",
       "    </tr>\n",
       "    <tr>\n",
       "      <th>3</th>\n",
       "      <td>4</td>\n",
       "      <td>NaN</td>\n",
       "      <td>NaN</td>\n",
       "      <td>NaN</td>\n",
       "      <td>81.0</td>\n",
       "      <td>NaN</td>\n",
       "      <td>NaN</td>\n",
       "      <td>NaN</td>\n",
       "      <td>NaN</td>\n",
       "      <td>NaN</td>\n",
       "      <td>NaN</td>\n",
       "      <td>NaN</td>\n",
       "      <td>207.0</td>\n",
       "      <td>NaN</td>\n",
       "      <td>153.0</td>\n",
       "      <td>154.0</td>\n",
       "    </tr>\n",
       "    <tr>\n",
       "      <th>4</th>\n",
       "      <td>5</td>\n",
       "      <td>NaN</td>\n",
       "      <td>NaN</td>\n",
       "      <td>NaN</td>\n",
       "      <td>78.0</td>\n",
       "      <td>NaN</td>\n",
       "      <td>NaN</td>\n",
       "      <td>NaN</td>\n",
       "      <td>NaN</td>\n",
       "      <td>NaN</td>\n",
       "      <td>NaN</td>\n",
       "      <td>NaN</td>\n",
       "      <td>203.0</td>\n",
       "      <td>NaN</td>\n",
       "      <td>151.0</td>\n",
       "      <td>152.0</td>\n",
       "    </tr>\n",
       "  </tbody>\n",
       "</table>\n",
       "</div>"
      ],
      "text/plain": [
       "   key  Bulk 1  Bulk 2  Bulk 3  Bulk 4  Bulk 5  Bulk 6  Bulk 7  Bulk 8  \\\n",
       "0    1     NaN     NaN     NaN    43.0     NaN     NaN     NaN     NaN   \n",
       "1    2     NaN     NaN     NaN    73.0     NaN     NaN     NaN     NaN   \n",
       "2    3     NaN     NaN     NaN    34.0     NaN     NaN     NaN     NaN   \n",
       "3    4     NaN     NaN     NaN    81.0     NaN     NaN     NaN     NaN   \n",
       "4    5     NaN     NaN     NaN    78.0     NaN     NaN     NaN     NaN   \n",
       "\n",
       "   Bulk 9  Bulk 10  Bulk 11  Bulk 12  Bulk 13  Bulk 14  Bulk 15  \n",
       "0     NaN      NaN      NaN    206.0      NaN    150.0    154.0  \n",
       "1     NaN      NaN      NaN    206.0      NaN    149.0    154.0  \n",
       "2     NaN      NaN      NaN    205.0      NaN    152.0    153.0  \n",
       "3     NaN      NaN      NaN    207.0      NaN    153.0    154.0  \n",
       "4     NaN      NaN      NaN    203.0      NaN    151.0    152.0  "
      ]
     },
     "execution_count": 16,
     "metadata": {},
     "output_type": "execute_result"
    }
   ],
   "source": [
    "df_bulk.head()"
   ]
  },
  {
   "cell_type": "code",
   "execution_count": 17,
   "metadata": {
    "id": "pFZEFRFssHTW",
    "outputId": "eb0156c9-a28c-4cc3-f343-8813dce0eefc"
   },
   "outputs": [
    {
     "name": "stdout",
     "output_type": "stream",
     "text": [
      "<class 'pandas.core.frame.DataFrame'>\n",
      "RangeIndex: 3129 entries, 0 to 3128\n",
      "Data columns (total 16 columns):\n",
      " #   Column   Non-Null Count  Dtype  \n",
      "---  ------   --------------  -----  \n",
      " 0   key      3129 non-null   int64  \n",
      " 1   Bulk 1   252 non-null    float64\n",
      " 2   Bulk 2   22 non-null     float64\n",
      " 3   Bulk 3   1298 non-null   float64\n",
      " 4   Bulk 4   1014 non-null   float64\n",
      " 5   Bulk 5   77 non-null     float64\n",
      " 6   Bulk 6   576 non-null    float64\n",
      " 7   Bulk 7   25 non-null     float64\n",
      " 8   Bulk 8   1 non-null      float64\n",
      " 9   Bulk 9   19 non-null     float64\n",
      " 10  Bulk 10  176 non-null    float64\n",
      " 11  Bulk 11  177 non-null    float64\n",
      " 12  Bulk 12  2450 non-null   float64\n",
      " 13  Bulk 13  18 non-null     float64\n",
      " 14  Bulk 14  2806 non-null   float64\n",
      " 15  Bulk 15  2248 non-null   float64\n",
      "dtypes: float64(15), int64(1)\n",
      "memory usage: 391.2 KB\n"
     ]
    }
   ],
   "source": [
    "df_bulk.info()"
   ]
  },
  {
   "cell_type": "code",
   "execution_count": 18,
   "metadata": {
    "id": "cxTeKwR7sHTW",
    "outputId": "4e111644-ca04-46b9-b95a-7512e08a3a4b"
   },
   "outputs": [
    {
     "data": {
      "text/html": [
       "<div>\n",
       "<style scoped>\n",
       "    .dataframe tbody tr th:only-of-type {\n",
       "        vertical-align: middle;\n",
       "    }\n",
       "\n",
       "    .dataframe tbody tr th {\n",
       "        vertical-align: top;\n",
       "    }\n",
       "\n",
       "    .dataframe thead th {\n",
       "        text-align: right;\n",
       "    }\n",
       "</style>\n",
       "<table border=\"1\" class=\"dataframe\">\n",
       "  <thead>\n",
       "    <tr style=\"text-align: right;\">\n",
       "      <th></th>\n",
       "      <th>key</th>\n",
       "      <th>Bulk 1</th>\n",
       "      <th>Bulk 2</th>\n",
       "      <th>Bulk 3</th>\n",
       "      <th>Bulk 4</th>\n",
       "      <th>Bulk 5</th>\n",
       "      <th>Bulk 6</th>\n",
       "      <th>Bulk 7</th>\n",
       "      <th>Bulk 8</th>\n",
       "      <th>Bulk 9</th>\n",
       "      <th>Bulk 10</th>\n",
       "      <th>Bulk 11</th>\n",
       "      <th>Bulk 12</th>\n",
       "      <th>Bulk 13</th>\n",
       "      <th>Bulk 14</th>\n",
       "      <th>Bulk 15</th>\n",
       "    </tr>\n",
       "  </thead>\n",
       "  <tbody>\n",
       "    <tr>\n",
       "      <th>count</th>\n",
       "      <td>3129.000000</td>\n",
       "      <td>252.000000</td>\n",
       "      <td>22.000000</td>\n",
       "      <td>1298.000000</td>\n",
       "      <td>1014.000000</td>\n",
       "      <td>77.000000</td>\n",
       "      <td>576.000000</td>\n",
       "      <td>25.000000</td>\n",
       "      <td>1.0</td>\n",
       "      <td>19.000000</td>\n",
       "      <td>176.000000</td>\n",
       "      <td>177.000000</td>\n",
       "      <td>2450.000000</td>\n",
       "      <td>18.000000</td>\n",
       "      <td>2806.000000</td>\n",
       "      <td>2248.000000</td>\n",
       "    </tr>\n",
       "    <tr>\n",
       "      <th>mean</th>\n",
       "      <td>1624.383509</td>\n",
       "      <td>39.242063</td>\n",
       "      <td>253.045455</td>\n",
       "      <td>113.879045</td>\n",
       "      <td>104.394477</td>\n",
       "      <td>107.025974</td>\n",
       "      <td>118.925347</td>\n",
       "      <td>305.600000</td>\n",
       "      <td>49.0</td>\n",
       "      <td>76.315789</td>\n",
       "      <td>83.284091</td>\n",
       "      <td>76.819209</td>\n",
       "      <td>260.471020</td>\n",
       "      <td>181.111111</td>\n",
       "      <td>170.284747</td>\n",
       "      <td>160.513345</td>\n",
       "    </tr>\n",
       "    <tr>\n",
       "      <th>std</th>\n",
       "      <td>933.337642</td>\n",
       "      <td>18.277654</td>\n",
       "      <td>21.180578</td>\n",
       "      <td>75.483494</td>\n",
       "      <td>48.184126</td>\n",
       "      <td>81.790646</td>\n",
       "      <td>72.057776</td>\n",
       "      <td>191.022904</td>\n",
       "      <td>NaN</td>\n",
       "      <td>21.720581</td>\n",
       "      <td>26.060347</td>\n",
       "      <td>59.655365</td>\n",
       "      <td>120.649269</td>\n",
       "      <td>46.088009</td>\n",
       "      <td>65.868652</td>\n",
       "      <td>51.765319</td>\n",
       "    </tr>\n",
       "    <tr>\n",
       "      <th>min</th>\n",
       "      <td>1.000000</td>\n",
       "      <td>10.000000</td>\n",
       "      <td>228.000000</td>\n",
       "      <td>6.000000</td>\n",
       "      <td>12.000000</td>\n",
       "      <td>11.000000</td>\n",
       "      <td>17.000000</td>\n",
       "      <td>47.000000</td>\n",
       "      <td>49.0</td>\n",
       "      <td>63.000000</td>\n",
       "      <td>24.000000</td>\n",
       "      <td>8.000000</td>\n",
       "      <td>53.000000</td>\n",
       "      <td>151.000000</td>\n",
       "      <td>16.000000</td>\n",
       "      <td>1.000000</td>\n",
       "    </tr>\n",
       "    <tr>\n",
       "      <th>25%</th>\n",
       "      <td>816.000000</td>\n",
       "      <td>27.000000</td>\n",
       "      <td>242.000000</td>\n",
       "      <td>58.000000</td>\n",
       "      <td>72.000000</td>\n",
       "      <td>70.000000</td>\n",
       "      <td>69.750000</td>\n",
       "      <td>155.000000</td>\n",
       "      <td>49.0</td>\n",
       "      <td>66.000000</td>\n",
       "      <td>64.000000</td>\n",
       "      <td>25.000000</td>\n",
       "      <td>204.000000</td>\n",
       "      <td>153.250000</td>\n",
       "      <td>119.000000</td>\n",
       "      <td>105.000000</td>\n",
       "    </tr>\n",
       "    <tr>\n",
       "      <th>50%</th>\n",
       "      <td>1622.000000</td>\n",
       "      <td>31.000000</td>\n",
       "      <td>251.500000</td>\n",
       "      <td>97.500000</td>\n",
       "      <td>102.000000</td>\n",
       "      <td>86.000000</td>\n",
       "      <td>100.000000</td>\n",
       "      <td>298.000000</td>\n",
       "      <td>49.0</td>\n",
       "      <td>68.000000</td>\n",
       "      <td>86.500000</td>\n",
       "      <td>64.000000</td>\n",
       "      <td>208.000000</td>\n",
       "      <td>155.500000</td>\n",
       "      <td>151.000000</td>\n",
       "      <td>160.000000</td>\n",
       "    </tr>\n",
       "    <tr>\n",
       "      <th>75%</th>\n",
       "      <td>2431.000000</td>\n",
       "      <td>46.000000</td>\n",
       "      <td>257.750000</td>\n",
       "      <td>152.000000</td>\n",
       "      <td>133.000000</td>\n",
       "      <td>132.000000</td>\n",
       "      <td>157.000000</td>\n",
       "      <td>406.000000</td>\n",
       "      <td>49.0</td>\n",
       "      <td>70.500000</td>\n",
       "      <td>102.000000</td>\n",
       "      <td>106.000000</td>\n",
       "      <td>316.000000</td>\n",
       "      <td>203.500000</td>\n",
       "      <td>205.750000</td>\n",
       "      <td>205.000000</td>\n",
       "    </tr>\n",
       "    <tr>\n",
       "      <th>max</th>\n",
       "      <td>3241.000000</td>\n",
       "      <td>185.000000</td>\n",
       "      <td>325.000000</td>\n",
       "      <td>454.000000</td>\n",
       "      <td>281.000000</td>\n",
       "      <td>603.000000</td>\n",
       "      <td>503.000000</td>\n",
       "      <td>772.000000</td>\n",
       "      <td>49.0</td>\n",
       "      <td>147.000000</td>\n",
       "      <td>159.000000</td>\n",
       "      <td>313.000000</td>\n",
       "      <td>1849.000000</td>\n",
       "      <td>305.000000</td>\n",
       "      <td>636.000000</td>\n",
       "      <td>405.000000</td>\n",
       "    </tr>\n",
       "  </tbody>\n",
       "</table>\n",
       "</div>"
      ],
      "text/plain": [
       "               key      Bulk 1      Bulk 2       Bulk 3       Bulk 4  \\\n",
       "count  3129.000000  252.000000   22.000000  1298.000000  1014.000000   \n",
       "mean   1624.383509   39.242063  253.045455   113.879045   104.394477   \n",
       "std     933.337642   18.277654   21.180578    75.483494    48.184126   \n",
       "min       1.000000   10.000000  228.000000     6.000000    12.000000   \n",
       "25%     816.000000   27.000000  242.000000    58.000000    72.000000   \n",
       "50%    1622.000000   31.000000  251.500000    97.500000   102.000000   \n",
       "75%    2431.000000   46.000000  257.750000   152.000000   133.000000   \n",
       "max    3241.000000  185.000000  325.000000   454.000000   281.000000   \n",
       "\n",
       "           Bulk 5      Bulk 6      Bulk 7  Bulk 8      Bulk 9     Bulk 10  \\\n",
       "count   77.000000  576.000000   25.000000     1.0   19.000000  176.000000   \n",
       "mean   107.025974  118.925347  305.600000    49.0   76.315789   83.284091   \n",
       "std     81.790646   72.057776  191.022904     NaN   21.720581   26.060347   \n",
       "min     11.000000   17.000000   47.000000    49.0   63.000000   24.000000   \n",
       "25%     70.000000   69.750000  155.000000    49.0   66.000000   64.000000   \n",
       "50%     86.000000  100.000000  298.000000    49.0   68.000000   86.500000   \n",
       "75%    132.000000  157.000000  406.000000    49.0   70.500000  102.000000   \n",
       "max    603.000000  503.000000  772.000000    49.0  147.000000  159.000000   \n",
       "\n",
       "          Bulk 11      Bulk 12     Bulk 13      Bulk 14      Bulk 15  \n",
       "count  177.000000  2450.000000   18.000000  2806.000000  2248.000000  \n",
       "mean    76.819209   260.471020  181.111111   170.284747   160.513345  \n",
       "std     59.655365   120.649269   46.088009    65.868652    51.765319  \n",
       "min      8.000000    53.000000  151.000000    16.000000     1.000000  \n",
       "25%     25.000000   204.000000  153.250000   119.000000   105.000000  \n",
       "50%     64.000000   208.000000  155.500000   151.000000   160.000000  \n",
       "75%    106.000000   316.000000  203.500000   205.750000   205.000000  \n",
       "max    313.000000  1849.000000  305.000000   636.000000   405.000000  "
      ]
     },
     "execution_count": 18,
     "metadata": {},
     "output_type": "execute_result"
    }
   ],
   "source": [
    "df_bulk.describe()"
   ]
  },
  {
   "cell_type": "code",
   "execution_count": 19,
   "metadata": {
    "id": "q1SPLOdPsHTX",
    "outputId": "3f229fa5-f798-4111-a112-ace1018eaf3a"
   },
   "outputs": [
    {
     "data": {
      "text/html": [
       "<div>\n",
       "<style scoped>\n",
       "    .dataframe tbody tr th:only-of-type {\n",
       "        vertical-align: middle;\n",
       "    }\n",
       "\n",
       "    .dataframe tbody tr th {\n",
       "        vertical-align: top;\n",
       "    }\n",
       "\n",
       "    .dataframe thead th {\n",
       "        text-align: right;\n",
       "    }\n",
       "</style>\n",
       "<table border=\"1\" class=\"dataframe\">\n",
       "  <thead>\n",
       "    <tr style=\"text-align: right;\">\n",
       "      <th></th>\n",
       "      <th>key</th>\n",
       "      <th>Bulk 1</th>\n",
       "      <th>Bulk 2</th>\n",
       "      <th>Bulk 3</th>\n",
       "      <th>Bulk 4</th>\n",
       "      <th>Bulk 5</th>\n",
       "      <th>Bulk 6</th>\n",
       "      <th>Bulk 7</th>\n",
       "      <th>Bulk 8</th>\n",
       "      <th>Bulk 9</th>\n",
       "      <th>Bulk 10</th>\n",
       "      <th>Bulk 11</th>\n",
       "      <th>Bulk 12</th>\n",
       "      <th>Bulk 13</th>\n",
       "      <th>Bulk 14</th>\n",
       "      <th>Bulk 15</th>\n",
       "    </tr>\n",
       "  </thead>\n",
       "  <tbody>\n",
       "    <tr>\n",
       "      <th>0</th>\n",
       "      <td>1</td>\n",
       "      <td>NaT</td>\n",
       "      <td>NaT</td>\n",
       "      <td>NaT</td>\n",
       "      <td>2019-05-03 11:21:30</td>\n",
       "      <td>NaT</td>\n",
       "      <td>NaT</td>\n",
       "      <td>NaT</td>\n",
       "      <td>NaT</td>\n",
       "      <td>NaT</td>\n",
       "      <td>NaT</td>\n",
       "      <td>NaT</td>\n",
       "      <td>2019-05-03 11:03:52</td>\n",
       "      <td>NaT</td>\n",
       "      <td>2019-05-03 11:03:52</td>\n",
       "      <td>2019-05-03 11:03:52</td>\n",
       "    </tr>\n",
       "    <tr>\n",
       "      <th>1</th>\n",
       "      <td>2</td>\n",
       "      <td>NaT</td>\n",
       "      <td>NaT</td>\n",
       "      <td>NaT</td>\n",
       "      <td>2019-05-03 11:46:38</td>\n",
       "      <td>NaT</td>\n",
       "      <td>NaT</td>\n",
       "      <td>NaT</td>\n",
       "      <td>NaT</td>\n",
       "      <td>NaT</td>\n",
       "      <td>NaT</td>\n",
       "      <td>NaT</td>\n",
       "      <td>2019-05-03 11:40:20</td>\n",
       "      <td>NaT</td>\n",
       "      <td>2019-05-03 11:40:20</td>\n",
       "      <td>2019-05-03 11:40:20</td>\n",
       "    </tr>\n",
       "    <tr>\n",
       "      <th>2</th>\n",
       "      <td>3</td>\n",
       "      <td>NaT</td>\n",
       "      <td>NaT</td>\n",
       "      <td>NaT</td>\n",
       "      <td>2019-05-03 12:31:06</td>\n",
       "      <td>NaT</td>\n",
       "      <td>NaT</td>\n",
       "      <td>NaT</td>\n",
       "      <td>NaT</td>\n",
       "      <td>NaT</td>\n",
       "      <td>NaT</td>\n",
       "      <td>NaT</td>\n",
       "      <td>2019-05-03 12:09:40</td>\n",
       "      <td>NaT</td>\n",
       "      <td>2019-05-03 12:09:40</td>\n",
       "      <td>2019-05-03 12:09:40</td>\n",
       "    </tr>\n",
       "    <tr>\n",
       "      <th>3</th>\n",
       "      <td>4</td>\n",
       "      <td>NaT</td>\n",
       "      <td>NaT</td>\n",
       "      <td>NaT</td>\n",
       "      <td>2019-05-03 12:48:43</td>\n",
       "      <td>NaT</td>\n",
       "      <td>NaT</td>\n",
       "      <td>NaT</td>\n",
       "      <td>NaT</td>\n",
       "      <td>NaT</td>\n",
       "      <td>NaT</td>\n",
       "      <td>NaT</td>\n",
       "      <td>2019-05-03 12:41:24</td>\n",
       "      <td>NaT</td>\n",
       "      <td>2019-05-03 12:41:24</td>\n",
       "      <td>2019-05-03 12:41:24</td>\n",
       "    </tr>\n",
       "    <tr>\n",
       "      <th>4</th>\n",
       "      <td>5</td>\n",
       "      <td>NaT</td>\n",
       "      <td>NaT</td>\n",
       "      <td>NaT</td>\n",
       "      <td>2019-05-03 13:18:50</td>\n",
       "      <td>NaT</td>\n",
       "      <td>NaT</td>\n",
       "      <td>NaT</td>\n",
       "      <td>NaT</td>\n",
       "      <td>NaT</td>\n",
       "      <td>NaT</td>\n",
       "      <td>NaT</td>\n",
       "      <td>2019-05-03 13:12:56</td>\n",
       "      <td>NaT</td>\n",
       "      <td>2019-05-03 13:12:56</td>\n",
       "      <td>2019-05-03 13:12:56</td>\n",
       "    </tr>\n",
       "  </tbody>\n",
       "</table>\n",
       "</div>"
      ],
      "text/plain": [
       "   key Bulk 1 Bulk 2 Bulk 3              Bulk 4 Bulk 5 Bulk 6 Bulk 7 Bulk 8  \\\n",
       "0    1    NaT    NaT    NaT 2019-05-03 11:21:30    NaT    NaT    NaT    NaT   \n",
       "1    2    NaT    NaT    NaT 2019-05-03 11:46:38    NaT    NaT    NaT    NaT   \n",
       "2    3    NaT    NaT    NaT 2019-05-03 12:31:06    NaT    NaT    NaT    NaT   \n",
       "3    4    NaT    NaT    NaT 2019-05-03 12:48:43    NaT    NaT    NaT    NaT   \n",
       "4    5    NaT    NaT    NaT 2019-05-03 13:18:50    NaT    NaT    NaT    NaT   \n",
       "\n",
       "  Bulk 9 Bulk 10 Bulk 11             Bulk 12 Bulk 13             Bulk 14  \\\n",
       "0    NaT     NaT     NaT 2019-05-03 11:03:52     NaT 2019-05-03 11:03:52   \n",
       "1    NaT     NaT     NaT 2019-05-03 11:40:20     NaT 2019-05-03 11:40:20   \n",
       "2    NaT     NaT     NaT 2019-05-03 12:09:40     NaT 2019-05-03 12:09:40   \n",
       "3    NaT     NaT     NaT 2019-05-03 12:41:24     NaT 2019-05-03 12:41:24   \n",
       "4    NaT     NaT     NaT 2019-05-03 13:12:56     NaT 2019-05-03 13:12:56   \n",
       "\n",
       "              Bulk 15  \n",
       "0 2019-05-03 11:03:52  \n",
       "1 2019-05-03 11:40:20  \n",
       "2 2019-05-03 12:09:40  \n",
       "3 2019-05-03 12:41:24  \n",
       "4 2019-05-03 13:12:56  "
      ]
     },
     "execution_count": 19,
     "metadata": {},
     "output_type": "execute_result"
    }
   ],
   "source": [
    "df_bulk_time.head()"
   ]
  },
  {
   "cell_type": "code",
   "execution_count": 20,
   "metadata": {
    "id": "VFdyt4S2sHTX",
    "outputId": "b6b7b894-6a54-4e1a-dd18-c54191476186"
   },
   "outputs": [
    {
     "name": "stdout",
     "output_type": "stream",
     "text": [
      "<class 'pandas.core.frame.DataFrame'>\n",
      "RangeIndex: 3129 entries, 0 to 3128\n",
      "Data columns (total 16 columns):\n",
      " #   Column   Non-Null Count  Dtype         \n",
      "---  ------   --------------  -----         \n",
      " 0   key      3129 non-null   int64         \n",
      " 1   Bulk 1   252 non-null    datetime64[ns]\n",
      " 2   Bulk 2   22 non-null     datetime64[ns]\n",
      " 3   Bulk 3   1298 non-null   datetime64[ns]\n",
      " 4   Bulk 4   1014 non-null   datetime64[ns]\n",
      " 5   Bulk 5   77 non-null     datetime64[ns]\n",
      " 6   Bulk 6   576 non-null    datetime64[ns]\n",
      " 7   Bulk 7   25 non-null     datetime64[ns]\n",
      " 8   Bulk 8   1 non-null      datetime64[ns]\n",
      " 9   Bulk 9   19 non-null     datetime64[ns]\n",
      " 10  Bulk 10  176 non-null    datetime64[ns]\n",
      " 11  Bulk 11  177 non-null    datetime64[ns]\n",
      " 12  Bulk 12  2450 non-null   datetime64[ns]\n",
      " 13  Bulk 13  18 non-null     datetime64[ns]\n",
      " 14  Bulk 14  2806 non-null   datetime64[ns]\n",
      " 15  Bulk 15  2248 non-null   datetime64[ns]\n",
      "dtypes: datetime64[ns](15), int64(1)\n",
      "memory usage: 391.2 KB\n"
     ]
    }
   ],
   "source": [
    "df_bulk_time.info()"
   ]
  },
  {
   "cell_type": "code",
   "execution_count": 21,
   "metadata": {
    "id": "ZGNepSH-sHTX",
    "outputId": "39def624-211c-4abc-fd29-6d5a93b411f0"
   },
   "outputs": [
    {
     "data": {
      "text/html": [
       "<div>\n",
       "<style scoped>\n",
       "    .dataframe tbody tr th:only-of-type {\n",
       "        vertical-align: middle;\n",
       "    }\n",
       "\n",
       "    .dataframe tbody tr th {\n",
       "        vertical-align: top;\n",
       "    }\n",
       "\n",
       "    .dataframe thead th {\n",
       "        text-align: right;\n",
       "    }\n",
       "</style>\n",
       "<table border=\"1\" class=\"dataframe\">\n",
       "  <thead>\n",
       "    <tr style=\"text-align: right;\">\n",
       "      <th></th>\n",
       "      <th>key</th>\n",
       "      <th>Газ 1</th>\n",
       "    </tr>\n",
       "  </thead>\n",
       "  <tbody>\n",
       "    <tr>\n",
       "      <th>0</th>\n",
       "      <td>1</td>\n",
       "      <td>29.749986</td>\n",
       "    </tr>\n",
       "    <tr>\n",
       "      <th>1</th>\n",
       "      <td>2</td>\n",
       "      <td>12.555561</td>\n",
       "    </tr>\n",
       "    <tr>\n",
       "      <th>2</th>\n",
       "      <td>3</td>\n",
       "      <td>28.554793</td>\n",
       "    </tr>\n",
       "    <tr>\n",
       "      <th>3</th>\n",
       "      <td>4</td>\n",
       "      <td>18.841219</td>\n",
       "    </tr>\n",
       "    <tr>\n",
       "      <th>4</th>\n",
       "      <td>5</td>\n",
       "      <td>5.413692</td>\n",
       "    </tr>\n",
       "  </tbody>\n",
       "</table>\n",
       "</div>"
      ],
      "text/plain": [
       "   key      Газ 1\n",
       "0    1  29.749986\n",
       "1    2  12.555561\n",
       "2    3  28.554793\n",
       "3    4  18.841219\n",
       "4    5   5.413692"
      ]
     },
     "execution_count": 21,
     "metadata": {},
     "output_type": "execute_result"
    }
   ],
   "source": [
    "df_gas.head()"
   ]
  },
  {
   "cell_type": "code",
   "execution_count": 22,
   "metadata": {
    "id": "LTePXAOmsHTY",
    "outputId": "cf2178e2-4986-40e5-8f09-d0ad138256b6"
   },
   "outputs": [
    {
     "data": {
      "text/html": [
       "<div>\n",
       "<style scoped>\n",
       "    .dataframe tbody tr th:only-of-type {\n",
       "        vertical-align: middle;\n",
       "    }\n",
       "\n",
       "    .dataframe tbody tr th {\n",
       "        vertical-align: top;\n",
       "    }\n",
       "\n",
       "    .dataframe thead th {\n",
       "        text-align: right;\n",
       "    }\n",
       "</style>\n",
       "<table border=\"1\" class=\"dataframe\">\n",
       "  <thead>\n",
       "    <tr style=\"text-align: right;\">\n",
       "      <th></th>\n",
       "      <th>key</th>\n",
       "      <th>Газ 1</th>\n",
       "    </tr>\n",
       "  </thead>\n",
       "  <tbody>\n",
       "    <tr>\n",
       "      <th>count</th>\n",
       "      <td>3239.000000</td>\n",
       "      <td>3239.000000</td>\n",
       "    </tr>\n",
       "    <tr>\n",
       "      <th>mean</th>\n",
       "      <td>1621.861377</td>\n",
       "      <td>11.002062</td>\n",
       "    </tr>\n",
       "    <tr>\n",
       "      <th>std</th>\n",
       "      <td>935.386334</td>\n",
       "      <td>6.220327</td>\n",
       "    </tr>\n",
       "    <tr>\n",
       "      <th>min</th>\n",
       "      <td>1.000000</td>\n",
       "      <td>0.008399</td>\n",
       "    </tr>\n",
       "    <tr>\n",
       "      <th>25%</th>\n",
       "      <td>812.500000</td>\n",
       "      <td>7.043089</td>\n",
       "    </tr>\n",
       "    <tr>\n",
       "      <th>50%</th>\n",
       "      <td>1622.000000</td>\n",
       "      <td>9.836267</td>\n",
       "    </tr>\n",
       "    <tr>\n",
       "      <th>75%</th>\n",
       "      <td>2431.500000</td>\n",
       "      <td>13.769915</td>\n",
       "    </tr>\n",
       "    <tr>\n",
       "      <th>max</th>\n",
       "      <td>3241.000000</td>\n",
       "      <td>77.995040</td>\n",
       "    </tr>\n",
       "  </tbody>\n",
       "</table>\n",
       "</div>"
      ],
      "text/plain": [
       "               key        Газ 1\n",
       "count  3239.000000  3239.000000\n",
       "mean   1621.861377    11.002062\n",
       "std     935.386334     6.220327\n",
       "min       1.000000     0.008399\n",
       "25%     812.500000     7.043089\n",
       "50%    1622.000000     9.836267\n",
       "75%    2431.500000    13.769915\n",
       "max    3241.000000    77.995040"
      ]
     },
     "execution_count": 22,
     "metadata": {},
     "output_type": "execute_result"
    }
   ],
   "source": [
    "df_gas.describe()"
   ]
  },
  {
   "cell_type": "code",
   "execution_count": 23,
   "metadata": {
    "id": "gAuI_QLzsHTY",
    "outputId": "50eef586-98eb-41cd-b169-f0d7ad654b4d"
   },
   "outputs": [
    {
     "data": {
      "text/html": [
       "<div>\n",
       "<style scoped>\n",
       "    .dataframe tbody tr th:only-of-type {\n",
       "        vertical-align: middle;\n",
       "    }\n",
       "\n",
       "    .dataframe tbody tr th {\n",
       "        vertical-align: top;\n",
       "    }\n",
       "\n",
       "    .dataframe thead th {\n",
       "        text-align: right;\n",
       "    }\n",
       "</style>\n",
       "<table border=\"1\" class=\"dataframe\">\n",
       "  <thead>\n",
       "    <tr style=\"text-align: right;\">\n",
       "      <th></th>\n",
       "      <th>key</th>\n",
       "      <th>Время замера</th>\n",
       "      <th>Температура</th>\n",
       "    </tr>\n",
       "  </thead>\n",
       "  <tbody>\n",
       "    <tr>\n",
       "      <th>0</th>\n",
       "      <td>1</td>\n",
       "      <td>2019-05-03 11:16:18</td>\n",
       "      <td>1571.0</td>\n",
       "    </tr>\n",
       "    <tr>\n",
       "      <th>1</th>\n",
       "      <td>1</td>\n",
       "      <td>2019-05-03 11:25:53</td>\n",
       "      <td>1604.0</td>\n",
       "    </tr>\n",
       "    <tr>\n",
       "      <th>2</th>\n",
       "      <td>1</td>\n",
       "      <td>2019-05-03 11:29:11</td>\n",
       "      <td>1618.0</td>\n",
       "    </tr>\n",
       "    <tr>\n",
       "      <th>3</th>\n",
       "      <td>1</td>\n",
       "      <td>2019-05-03 11:30:01</td>\n",
       "      <td>1601.0</td>\n",
       "    </tr>\n",
       "    <tr>\n",
       "      <th>4</th>\n",
       "      <td>1</td>\n",
       "      <td>2019-05-03 11:30:39</td>\n",
       "      <td>1613.0</td>\n",
       "    </tr>\n",
       "  </tbody>\n",
       "</table>\n",
       "</div>"
      ],
      "text/plain": [
       "   key        Время замера  Температура\n",
       "0    1 2019-05-03 11:16:18       1571.0\n",
       "1    1 2019-05-03 11:25:53       1604.0\n",
       "2    1 2019-05-03 11:29:11       1618.0\n",
       "3    1 2019-05-03 11:30:01       1601.0\n",
       "4    1 2019-05-03 11:30:39       1613.0"
      ]
     },
     "execution_count": 23,
     "metadata": {},
     "output_type": "execute_result"
    }
   ],
   "source": [
    "df_temp.head()"
   ]
  },
  {
   "cell_type": "code",
   "execution_count": 24,
   "metadata": {
    "id": "wuemSbC6sHTY",
    "outputId": "48c1604b-09bd-491f-ca67-c49724a5500c"
   },
   "outputs": [
    {
     "data": {
      "text/html": [
       "<div>\n",
       "<style scoped>\n",
       "    .dataframe tbody tr th:only-of-type {\n",
       "        vertical-align: middle;\n",
       "    }\n",
       "\n",
       "    .dataframe tbody tr th {\n",
       "        vertical-align: top;\n",
       "    }\n",
       "\n",
       "    .dataframe thead th {\n",
       "        text-align: right;\n",
       "    }\n",
       "</style>\n",
       "<table border=\"1\" class=\"dataframe\">\n",
       "  <thead>\n",
       "    <tr style=\"text-align: right;\">\n",
       "      <th></th>\n",
       "      <th>key</th>\n",
       "      <th>Температура</th>\n",
       "    </tr>\n",
       "  </thead>\n",
       "  <tbody>\n",
       "    <tr>\n",
       "      <th>count</th>\n",
       "      <td>15907.000000</td>\n",
       "      <td>13006.000000</td>\n",
       "    </tr>\n",
       "    <tr>\n",
       "      <th>mean</th>\n",
       "      <td>1607.880870</td>\n",
       "      <td>1591.840920</td>\n",
       "    </tr>\n",
       "    <tr>\n",
       "      <th>std</th>\n",
       "      <td>942.212073</td>\n",
       "      <td>21.375851</td>\n",
       "    </tr>\n",
       "    <tr>\n",
       "      <th>min</th>\n",
       "      <td>1.000000</td>\n",
       "      <td>1191.000000</td>\n",
       "    </tr>\n",
       "    <tr>\n",
       "      <th>25%</th>\n",
       "      <td>790.000000</td>\n",
       "      <td>1581.000000</td>\n",
       "    </tr>\n",
       "    <tr>\n",
       "      <th>50%</th>\n",
       "      <td>1618.000000</td>\n",
       "      <td>1591.000000</td>\n",
       "    </tr>\n",
       "    <tr>\n",
       "      <th>75%</th>\n",
       "      <td>2427.000000</td>\n",
       "      <td>1601.000000</td>\n",
       "    </tr>\n",
       "    <tr>\n",
       "      <th>max</th>\n",
       "      <td>3241.000000</td>\n",
       "      <td>1705.000000</td>\n",
       "    </tr>\n",
       "  </tbody>\n",
       "</table>\n",
       "</div>"
      ],
      "text/plain": [
       "                key   Температура\n",
       "count  15907.000000  13006.000000\n",
       "mean    1607.880870   1591.840920\n",
       "std      942.212073     21.375851\n",
       "min        1.000000   1191.000000\n",
       "25%      790.000000   1581.000000\n",
       "50%     1618.000000   1591.000000\n",
       "75%     2427.000000   1601.000000\n",
       "max     3241.000000   1705.000000"
      ]
     },
     "execution_count": 24,
     "metadata": {},
     "output_type": "execute_result"
    }
   ],
   "source": [
    "df_temp.describe()"
   ]
  },
  {
   "cell_type": "code",
   "execution_count": 25,
   "metadata": {
    "id": "7O8VL80WsHTY",
    "outputId": "9ff67efd-6930-4fa0-c313-e90c7d774e44"
   },
   "outputs": [
    {
     "data": {
      "text/html": [
       "<div>\n",
       "<style scoped>\n",
       "    .dataframe tbody tr th:only-of-type {\n",
       "        vertical-align: middle;\n",
       "    }\n",
       "\n",
       "    .dataframe tbody tr th {\n",
       "        vertical-align: top;\n",
       "    }\n",
       "\n",
       "    .dataframe thead th {\n",
       "        text-align: right;\n",
       "    }\n",
       "</style>\n",
       "<table border=\"1\" class=\"dataframe\">\n",
       "  <thead>\n",
       "    <tr style=\"text-align: right;\">\n",
       "      <th></th>\n",
       "      <th>key</th>\n",
       "      <th>Wire 1</th>\n",
       "      <th>Wire 2</th>\n",
       "      <th>Wire 3</th>\n",
       "      <th>Wire 4</th>\n",
       "      <th>Wire 5</th>\n",
       "      <th>Wire 6</th>\n",
       "      <th>Wire 7</th>\n",
       "      <th>Wire 8</th>\n",
       "      <th>Wire 9</th>\n",
       "    </tr>\n",
       "  </thead>\n",
       "  <tbody>\n",
       "    <tr>\n",
       "      <th>0</th>\n",
       "      <td>1</td>\n",
       "      <td>60.059998</td>\n",
       "      <td>NaN</td>\n",
       "      <td>NaN</td>\n",
       "      <td>NaN</td>\n",
       "      <td>NaN</td>\n",
       "      <td>NaN</td>\n",
       "      <td>NaN</td>\n",
       "      <td>NaN</td>\n",
       "      <td>NaN</td>\n",
       "    </tr>\n",
       "    <tr>\n",
       "      <th>1</th>\n",
       "      <td>2</td>\n",
       "      <td>96.052315</td>\n",
       "      <td>NaN</td>\n",
       "      <td>NaN</td>\n",
       "      <td>NaN</td>\n",
       "      <td>NaN</td>\n",
       "      <td>NaN</td>\n",
       "      <td>NaN</td>\n",
       "      <td>NaN</td>\n",
       "      <td>NaN</td>\n",
       "    </tr>\n",
       "    <tr>\n",
       "      <th>2</th>\n",
       "      <td>3</td>\n",
       "      <td>91.160157</td>\n",
       "      <td>NaN</td>\n",
       "      <td>NaN</td>\n",
       "      <td>NaN</td>\n",
       "      <td>NaN</td>\n",
       "      <td>NaN</td>\n",
       "      <td>NaN</td>\n",
       "      <td>NaN</td>\n",
       "      <td>NaN</td>\n",
       "    </tr>\n",
       "    <tr>\n",
       "      <th>3</th>\n",
       "      <td>4</td>\n",
       "      <td>89.063515</td>\n",
       "      <td>NaN</td>\n",
       "      <td>NaN</td>\n",
       "      <td>NaN</td>\n",
       "      <td>NaN</td>\n",
       "      <td>NaN</td>\n",
       "      <td>NaN</td>\n",
       "      <td>NaN</td>\n",
       "      <td>NaN</td>\n",
       "    </tr>\n",
       "    <tr>\n",
       "      <th>4</th>\n",
       "      <td>5</td>\n",
       "      <td>89.238236</td>\n",
       "      <td>9.11456</td>\n",
       "      <td>NaN</td>\n",
       "      <td>NaN</td>\n",
       "      <td>NaN</td>\n",
       "      <td>NaN</td>\n",
       "      <td>NaN</td>\n",
       "      <td>NaN</td>\n",
       "      <td>NaN</td>\n",
       "    </tr>\n",
       "  </tbody>\n",
       "</table>\n",
       "</div>"
      ],
      "text/plain": [
       "   key     Wire 1   Wire 2  Wire 3  Wire 4  Wire 5  Wire 6  Wire 7  Wire 8  \\\n",
       "0    1  60.059998      NaN     NaN     NaN     NaN     NaN     NaN     NaN   \n",
       "1    2  96.052315      NaN     NaN     NaN     NaN     NaN     NaN     NaN   \n",
       "2    3  91.160157      NaN     NaN     NaN     NaN     NaN     NaN     NaN   \n",
       "3    4  89.063515      NaN     NaN     NaN     NaN     NaN     NaN     NaN   \n",
       "4    5  89.238236  9.11456     NaN     NaN     NaN     NaN     NaN     NaN   \n",
       "\n",
       "   Wire 9  \n",
       "0     NaN  \n",
       "1     NaN  \n",
       "2     NaN  \n",
       "3     NaN  \n",
       "4     NaN  "
      ]
     },
     "execution_count": 25,
     "metadata": {},
     "output_type": "execute_result"
    }
   ],
   "source": [
    "df_wire.head()"
   ]
  },
  {
   "cell_type": "code",
   "execution_count": 26,
   "metadata": {
    "id": "66Drt_vOsHTZ",
    "outputId": "bdde0327-3028-487f-c636-39d6423b576d"
   },
   "outputs": [
    {
     "name": "stdout",
     "output_type": "stream",
     "text": [
      "<class 'pandas.core.frame.DataFrame'>\n",
      "RangeIndex: 3081 entries, 0 to 3080\n",
      "Data columns (total 10 columns):\n",
      " #   Column  Non-Null Count  Dtype  \n",
      "---  ------  --------------  -----  \n",
      " 0   key     3081 non-null   int64  \n",
      " 1   Wire 1  3055 non-null   float64\n",
      " 2   Wire 2  1079 non-null   float64\n",
      " 3   Wire 3  63 non-null     float64\n",
      " 4   Wire 4  14 non-null     float64\n",
      " 5   Wire 5  1 non-null      float64\n",
      " 6   Wire 6  73 non-null     float64\n",
      " 7   Wire 7  11 non-null     float64\n",
      " 8   Wire 8  19 non-null     float64\n",
      " 9   Wire 9  29 non-null     float64\n",
      "dtypes: float64(9), int64(1)\n",
      "memory usage: 240.8 KB\n"
     ]
    }
   ],
   "source": [
    "df_wire.info()"
   ]
  },
  {
   "cell_type": "code",
   "execution_count": 27,
   "metadata": {
    "id": "vbGddVHNsHTZ",
    "outputId": "d6dfe901-705f-4b94-cfa5-3ece003da228"
   },
   "outputs": [
    {
     "data": {
      "text/html": [
       "<div>\n",
       "<style scoped>\n",
       "    .dataframe tbody tr th:only-of-type {\n",
       "        vertical-align: middle;\n",
       "    }\n",
       "\n",
       "    .dataframe tbody tr th {\n",
       "        vertical-align: top;\n",
       "    }\n",
       "\n",
       "    .dataframe thead th {\n",
       "        text-align: right;\n",
       "    }\n",
       "</style>\n",
       "<table border=\"1\" class=\"dataframe\">\n",
       "  <thead>\n",
       "    <tr style=\"text-align: right;\">\n",
       "      <th></th>\n",
       "      <th>key</th>\n",
       "      <th>Wire 1</th>\n",
       "      <th>Wire 2</th>\n",
       "      <th>Wire 3</th>\n",
       "      <th>Wire 4</th>\n",
       "      <th>Wire 5</th>\n",
       "      <th>Wire 6</th>\n",
       "      <th>Wire 7</th>\n",
       "      <th>Wire 8</th>\n",
       "      <th>Wire 9</th>\n",
       "    </tr>\n",
       "  </thead>\n",
       "  <tbody>\n",
       "    <tr>\n",
       "      <th>count</th>\n",
       "      <td>3081.000000</td>\n",
       "      <td>3055.000000</td>\n",
       "      <td>1079.000000</td>\n",
       "      <td>63.000000</td>\n",
       "      <td>14.000000</td>\n",
       "      <td>1.000</td>\n",
       "      <td>73.000000</td>\n",
       "      <td>11.000000</td>\n",
       "      <td>19.000000</td>\n",
       "      <td>29.000000</td>\n",
       "    </tr>\n",
       "    <tr>\n",
       "      <th>mean</th>\n",
       "      <td>1623.426485</td>\n",
       "      <td>100.895853</td>\n",
       "      <td>50.577323</td>\n",
       "      <td>189.482681</td>\n",
       "      <td>57.442842</td>\n",
       "      <td>15.132</td>\n",
       "      <td>48.016974</td>\n",
       "      <td>10.039007</td>\n",
       "      <td>53.625193</td>\n",
       "      <td>34.155752</td>\n",
       "    </tr>\n",
       "    <tr>\n",
       "      <th>std</th>\n",
       "      <td>932.996726</td>\n",
       "      <td>42.012518</td>\n",
       "      <td>39.320216</td>\n",
       "      <td>99.513444</td>\n",
       "      <td>28.824667</td>\n",
       "      <td>NaN</td>\n",
       "      <td>33.919845</td>\n",
       "      <td>8.610584</td>\n",
       "      <td>16.881728</td>\n",
       "      <td>19.931616</td>\n",
       "    </tr>\n",
       "    <tr>\n",
       "      <th>min</th>\n",
       "      <td>1.000000</td>\n",
       "      <td>1.918800</td>\n",
       "      <td>0.030160</td>\n",
       "      <td>0.144144</td>\n",
       "      <td>24.148801</td>\n",
       "      <td>15.132</td>\n",
       "      <td>0.034320</td>\n",
       "      <td>0.234208</td>\n",
       "      <td>45.076721</td>\n",
       "      <td>4.622800</td>\n",
       "    </tr>\n",
       "    <tr>\n",
       "      <th>25%</th>\n",
       "      <td>823.000000</td>\n",
       "      <td>72.115684</td>\n",
       "      <td>20.193680</td>\n",
       "      <td>95.135044</td>\n",
       "      <td>40.807002</td>\n",
       "      <td>15.132</td>\n",
       "      <td>25.053600</td>\n",
       "      <td>6.762756</td>\n",
       "      <td>46.094879</td>\n",
       "      <td>22.058401</td>\n",
       "    </tr>\n",
       "    <tr>\n",
       "      <th>50%</th>\n",
       "      <td>1619.000000</td>\n",
       "      <td>100.158234</td>\n",
       "      <td>40.142956</td>\n",
       "      <td>235.194977</td>\n",
       "      <td>45.234282</td>\n",
       "      <td>15.132</td>\n",
       "      <td>42.076324</td>\n",
       "      <td>9.017009</td>\n",
       "      <td>46.279999</td>\n",
       "      <td>30.066399</td>\n",
       "    </tr>\n",
       "    <tr>\n",
       "      <th>75%</th>\n",
       "      <td>2434.000000</td>\n",
       "      <td>126.060484</td>\n",
       "      <td>70.227558</td>\n",
       "      <td>276.252014</td>\n",
       "      <td>76.124619</td>\n",
       "      <td>15.132</td>\n",
       "      <td>64.212723</td>\n",
       "      <td>11.886057</td>\n",
       "      <td>48.089603</td>\n",
       "      <td>43.862003</td>\n",
       "    </tr>\n",
       "    <tr>\n",
       "      <th>max</th>\n",
       "      <td>3241.000000</td>\n",
       "      <td>330.314424</td>\n",
       "      <td>282.780152</td>\n",
       "      <td>385.008668</td>\n",
       "      <td>113.231044</td>\n",
       "      <td>15.132</td>\n",
       "      <td>180.454575</td>\n",
       "      <td>32.847674</td>\n",
       "      <td>102.762401</td>\n",
       "      <td>90.053604</td>\n",
       "    </tr>\n",
       "  </tbody>\n",
       "</table>\n",
       "</div>"
      ],
      "text/plain": [
       "               key       Wire 1       Wire 2      Wire 3      Wire 4  Wire 5  \\\n",
       "count  3081.000000  3055.000000  1079.000000   63.000000   14.000000   1.000   \n",
       "mean   1623.426485   100.895853    50.577323  189.482681   57.442842  15.132   \n",
       "std     932.996726    42.012518    39.320216   99.513444   28.824667     NaN   \n",
       "min       1.000000     1.918800     0.030160    0.144144   24.148801  15.132   \n",
       "25%     823.000000    72.115684    20.193680   95.135044   40.807002  15.132   \n",
       "50%    1619.000000   100.158234    40.142956  235.194977   45.234282  15.132   \n",
       "75%    2434.000000   126.060484    70.227558  276.252014   76.124619  15.132   \n",
       "max    3241.000000   330.314424   282.780152  385.008668  113.231044  15.132   \n",
       "\n",
       "           Wire 6     Wire 7      Wire 8     Wire 9  \n",
       "count   73.000000  11.000000   19.000000  29.000000  \n",
       "mean    48.016974  10.039007   53.625193  34.155752  \n",
       "std     33.919845   8.610584   16.881728  19.931616  \n",
       "min      0.034320   0.234208   45.076721   4.622800  \n",
       "25%     25.053600   6.762756   46.094879  22.058401  \n",
       "50%     42.076324   9.017009   46.279999  30.066399  \n",
       "75%     64.212723  11.886057   48.089603  43.862003  \n",
       "max    180.454575  32.847674  102.762401  90.053604  "
      ]
     },
     "execution_count": 27,
     "metadata": {},
     "output_type": "execute_result"
    }
   ],
   "source": [
    "df_wire.describe()"
   ]
  },
  {
   "cell_type": "code",
   "execution_count": 28,
   "metadata": {
    "id": "p-cKggYxsHTZ",
    "outputId": "cbc43756-eff9-4e6a-ed63-d962b24fedc0"
   },
   "outputs": [
    {
     "data": {
      "text/html": [
       "<div>\n",
       "<style scoped>\n",
       "    .dataframe tbody tr th:only-of-type {\n",
       "        vertical-align: middle;\n",
       "    }\n",
       "\n",
       "    .dataframe tbody tr th {\n",
       "        vertical-align: top;\n",
       "    }\n",
       "\n",
       "    .dataframe thead th {\n",
       "        text-align: right;\n",
       "    }\n",
       "</style>\n",
       "<table border=\"1\" class=\"dataframe\">\n",
       "  <thead>\n",
       "    <tr style=\"text-align: right;\">\n",
       "      <th></th>\n",
       "      <th>key</th>\n",
       "      <th>Wire 1</th>\n",
       "      <th>Wire 2</th>\n",
       "      <th>Wire 3</th>\n",
       "      <th>Wire 4</th>\n",
       "      <th>Wire 5</th>\n",
       "      <th>Wire 6</th>\n",
       "      <th>Wire 7</th>\n",
       "      <th>Wire 8</th>\n",
       "      <th>Wire 9</th>\n",
       "    </tr>\n",
       "  </thead>\n",
       "  <tbody>\n",
       "    <tr>\n",
       "      <th>0</th>\n",
       "      <td>1</td>\n",
       "      <td>2019-05-03 11:11:41</td>\n",
       "      <td>NaT</td>\n",
       "      <td>NaT</td>\n",
       "      <td>NaT</td>\n",
       "      <td>NaT</td>\n",
       "      <td>NaT</td>\n",
       "      <td>NaT</td>\n",
       "      <td>NaT</td>\n",
       "      <td>NaT</td>\n",
       "    </tr>\n",
       "    <tr>\n",
       "      <th>1</th>\n",
       "      <td>2</td>\n",
       "      <td>2019-05-03 11:46:10</td>\n",
       "      <td>NaT</td>\n",
       "      <td>NaT</td>\n",
       "      <td>NaT</td>\n",
       "      <td>NaT</td>\n",
       "      <td>NaT</td>\n",
       "      <td>NaT</td>\n",
       "      <td>NaT</td>\n",
       "      <td>NaT</td>\n",
       "    </tr>\n",
       "    <tr>\n",
       "      <th>2</th>\n",
       "      <td>3</td>\n",
       "      <td>2019-05-03 12:13:47</td>\n",
       "      <td>NaT</td>\n",
       "      <td>NaT</td>\n",
       "      <td>NaT</td>\n",
       "      <td>NaT</td>\n",
       "      <td>NaT</td>\n",
       "      <td>NaT</td>\n",
       "      <td>NaT</td>\n",
       "      <td>NaT</td>\n",
       "    </tr>\n",
       "    <tr>\n",
       "      <th>3</th>\n",
       "      <td>4</td>\n",
       "      <td>2019-05-03 12:48:05</td>\n",
       "      <td>NaT</td>\n",
       "      <td>NaT</td>\n",
       "      <td>NaT</td>\n",
       "      <td>NaT</td>\n",
       "      <td>NaT</td>\n",
       "      <td>NaT</td>\n",
       "      <td>NaT</td>\n",
       "      <td>NaT</td>\n",
       "    </tr>\n",
       "    <tr>\n",
       "      <th>4</th>\n",
       "      <td>5</td>\n",
       "      <td>2019-05-03 13:18:15</td>\n",
       "      <td>2019-05-03 13:32:06</td>\n",
       "      <td>NaT</td>\n",
       "      <td>NaT</td>\n",
       "      <td>NaT</td>\n",
       "      <td>NaT</td>\n",
       "      <td>NaT</td>\n",
       "      <td>NaT</td>\n",
       "      <td>NaT</td>\n",
       "    </tr>\n",
       "  </tbody>\n",
       "</table>\n",
       "</div>"
      ],
      "text/plain": [
       "   key              Wire 1              Wire 2 Wire 3 Wire 4 Wire 5 Wire 6  \\\n",
       "0    1 2019-05-03 11:11:41                 NaT    NaT    NaT    NaT    NaT   \n",
       "1    2 2019-05-03 11:46:10                 NaT    NaT    NaT    NaT    NaT   \n",
       "2    3 2019-05-03 12:13:47                 NaT    NaT    NaT    NaT    NaT   \n",
       "3    4 2019-05-03 12:48:05                 NaT    NaT    NaT    NaT    NaT   \n",
       "4    5 2019-05-03 13:18:15 2019-05-03 13:32:06    NaT    NaT    NaT    NaT   \n",
       "\n",
       "  Wire 7 Wire 8 Wire 9  \n",
       "0    NaT    NaT    NaT  \n",
       "1    NaT    NaT    NaT  \n",
       "2    NaT    NaT    NaT  \n",
       "3    NaT    NaT    NaT  \n",
       "4    NaT    NaT    NaT  "
      ]
     },
     "execution_count": 28,
     "metadata": {},
     "output_type": "execute_result"
    }
   ],
   "source": [
    "df_wire_time.head()"
   ]
  },
  {
   "cell_type": "code",
   "execution_count": 29,
   "metadata": {
    "id": "_bv9vBwtsHTa",
    "outputId": "1a98c24b-d7a6-4414-d566-3a2ad1fa304d"
   },
   "outputs": [
    {
     "name": "stdout",
     "output_type": "stream",
     "text": [
      "<class 'pandas.core.frame.DataFrame'>\n",
      "RangeIndex: 3081 entries, 0 to 3080\n",
      "Data columns (total 10 columns):\n",
      " #   Column  Non-Null Count  Dtype         \n",
      "---  ------  --------------  -----         \n",
      " 0   key     3081 non-null   int64         \n",
      " 1   Wire 1  3055 non-null   datetime64[ns]\n",
      " 2   Wire 2  1079 non-null   datetime64[ns]\n",
      " 3   Wire 3  63 non-null     datetime64[ns]\n",
      " 4   Wire 4  14 non-null     datetime64[ns]\n",
      " 5   Wire 5  1 non-null      datetime64[ns]\n",
      " 6   Wire 6  73 non-null     datetime64[ns]\n",
      " 7   Wire 7  11 non-null     datetime64[ns]\n",
      " 8   Wire 8  19 non-null     datetime64[ns]\n",
      " 9   Wire 9  29 non-null     datetime64[ns]\n",
      "dtypes: datetime64[ns](9), int64(1)\n",
      "memory usage: 240.8 KB\n"
     ]
    }
   ],
   "source": [
    "df_wire_time.info()"
   ]
  },
  {
   "cell_type": "markdown",
   "metadata": {
    "id": "yHa77ttFsHTa"
   },
   "source": [
    "Данных не мало, почти во всех есть пропуски, но при нашей задачи основной датафрейм это `df_temp`, где хранятся данные по замерам температуры. На первый взгляд это работа с времмеными рядами, но сделаем вывод, когда уточним все вопросы)"
   ]
  },
  {
   "cell_type": "markdown",
   "metadata": {
    "id": "c5eiQgirsHTa"
   },
   "source": [
    "<a id='2'>\n",
    "    \n",
    "## 2. Иследовательский анализ"
   ]
  },
  {
   "cell_type": "markdown",
   "metadata": {
    "id": "cYT4v8AYsHTb"
   },
   "source": [
    "У нас стоит задача предсказания температуры стали, а задача для предприятия уменьшить электропотребление, значит в первую очередь посмотрим на данные в `df_arc`, где показана мощьность электродов. Сгенерируем еще 2 переменные, которая показывает время нагрева дугой иполную мощность, и посмотрим как распеределены эти данные."
   ]
  },
  {
   "cell_type": "code",
   "execution_count": 30,
   "metadata": {
    "id": "_WnG1HgEsHTb"
   },
   "outputs": [],
   "source": [
    "df_arc['Время нагрева дугой'] = (df_arc['Конец нагрева дугой'] - df_arc['Начало нагрева дугой']).dt.seconds.astype(int)\n",
    "df_arc['Полная мощность'] = np.sqrt(df_arc['Активная мощность'] ** 2 + df_arc['Реактивная мощность'] ** 2)"
   ]
  },
  {
   "cell_type": "code",
   "execution_count": 31,
   "metadata": {
    "id": "JigUZxGUsHTb",
    "outputId": "ae4a75f3-ebdc-4d00-ef9c-0d48370b1f5f"
   },
   "outputs": [
    {
     "data": {
      "image/png": "[encoded data removed]",
      "text/plain": [
       "<Figure size 1080x576 with 4 Axes>"
      ]
     },
     "metadata": {
      "needs_background": "light"
     },
     "output_type": "display_data"
    }
   ],
   "source": [
    "df_arc[['Активная мощность', 'Реактивная мощность', 'Полная мощность', 'Время нагрева дугой']].hist(figsize=(15, 8), bins=100);"
   ]
  },
  {
   "cell_type": "code",
   "execution_count": 32,
   "metadata": {
    "id": "LiIGMppnsHTc",
    "outputId": "7d4a9602-9e26-4be4-ee98-c430c6c4c3fc"
   },
   "outputs": [
    {
     "data": {
      "text/html": [
       "<div>\n",
       "<style scoped>\n",
       "    .dataframe tbody tr th:only-of-type {\n",
       "        vertical-align: middle;\n",
       "    }\n",
       "\n",
       "    .dataframe tbody tr th {\n",
       "        vertical-align: top;\n",
       "    }\n",
       "\n",
       "    .dataframe thead th {\n",
       "        text-align: right;\n",
       "    }\n",
       "</style>\n",
       "<table border=\"1\" class=\"dataframe\">\n",
       "  <thead>\n",
       "    <tr style=\"text-align: right;\">\n",
       "      <th></th>\n",
       "      <th>key</th>\n",
       "      <th>Начало нагрева дугой</th>\n",
       "      <th>Конец нагрева дугой</th>\n",
       "      <th>Активная мощность</th>\n",
       "      <th>Реактивная мощность</th>\n",
       "      <th>Время нагрева дугой</th>\n",
       "      <th>Полная мощность</th>\n",
       "    </tr>\n",
       "  </thead>\n",
       "  <tbody>\n",
       "    <tr>\n",
       "      <th>9780</th>\n",
       "      <td>2116</td>\n",
       "      <td>2019-07-24 00:44:48</td>\n",
       "      <td>2019-07-24 00:46:37</td>\n",
       "      <td>0.495782</td>\n",
       "      <td>-715.504924</td>\n",
       "      <td>109</td>\n",
       "      <td>715.505096</td>\n",
       "    </tr>\n",
       "    <tr>\n",
       "      <th>7799</th>\n",
       "      <td>1689</td>\n",
       "      <td>2019-07-02 18:49:03</td>\n",
       "      <td>2019-07-02 19:04:10</td>\n",
       "      <td>3.731596</td>\n",
       "      <td>2.676388</td>\n",
       "      <td>907</td>\n",
       "      <td>4.592152</td>\n",
       "    </tr>\n",
       "    <tr>\n",
       "      <th>9226</th>\n",
       "      <td>2001</td>\n",
       "      <td>2019-07-19 20:19:15</td>\n",
       "      <td>2019-07-19 20:31:16</td>\n",
       "      <td>3.156276</td>\n",
       "      <td>2.504206</td>\n",
       "      <td>721</td>\n",
       "      <td>4.029036</td>\n",
       "    </tr>\n",
       "    <tr>\n",
       "      <th>12424</th>\n",
       "      <td>2701</td>\n",
       "      <td>2019-08-13 06:11:16</td>\n",
       "      <td>2019-08-13 06:25:02</td>\n",
       "      <td>3.150762</td>\n",
       "      <td>2.397032</td>\n",
       "      <td>826</td>\n",
       "      <td>3.958922</td>\n",
       "    </tr>\n",
       "    <tr>\n",
       "      <th>14200</th>\n",
       "      <td>3086</td>\n",
       "      <td>2019-08-27 03:41:09</td>\n",
       "      <td>2019-08-27 03:53:10</td>\n",
       "      <td>3.052813</td>\n",
       "      <td>2.216230</td>\n",
       "      <td>721</td>\n",
       "      <td>3.772445</td>\n",
       "    </tr>\n",
       "  </tbody>\n",
       "</table>\n",
       "</div>"
      ],
      "text/plain": [
       "        key Начало нагрева дугой Конец нагрева дугой  Активная мощность  \\\n",
       "9780   2116  2019-07-24 00:44:48 2019-07-24 00:46:37           0.495782   \n",
       "7799   1689  2019-07-02 18:49:03 2019-07-02 19:04:10           3.731596   \n",
       "9226   2001  2019-07-19 20:19:15 2019-07-19 20:31:16           3.156276   \n",
       "12424  2701  2019-08-13 06:11:16 2019-08-13 06:25:02           3.150762   \n",
       "14200  3086  2019-08-27 03:41:09 2019-08-27 03:53:10           3.052813   \n",
       "\n",
       "       Реактивная мощность  Время нагрева дугой  Полная мощность  \n",
       "9780           -715.504924                  109       715.505096  \n",
       "7799              2.676388                  907         4.592152  \n",
       "9226              2.504206                  721         4.029036  \n",
       "12424             2.397032                  826         3.958922  \n",
       "14200             2.216230                  721         3.772445  "
      ]
     },
     "execution_count": 32,
     "metadata": {},
     "output_type": "execute_result"
    }
   ],
   "source": [
    "df_arc.loc[df_arc['Полная мощность'] > 2].sort_values(by='Полная мощность', ascending=False).head()"
   ]
  },
  {
   "cell_type": "markdown",
   "metadata": {
    "id": "BGBeO7T2sHTc"
   },
   "source": [
    "И тут у нас явный выброс, реактивная мощность конечно допускается быть отрицательной, но не в таком диапазоне, это явно аномалия, которой тут не место."
   ]
  },
  {
   "cell_type": "markdown",
   "metadata": {
    "id": "_jvaI8QtsHTc"
   },
   "source": [
    "Теперь посмотрим на `df_temp`, где у нас произведены замеры по температуре"
   ]
  },
  {
   "cell_type": "code",
   "execution_count": 33,
   "metadata": {
    "id": "kchJ7XNQsHTc",
    "outputId": "954b61b9-edc4-4c13-c479-3bf15ae757fc"
   },
   "outputs": [
    {
     "data": {
      "image/png": "[encoded data removed]",
      "text/plain": [
       "<Figure size 1080x360 with 2 Axes>"
      ]
     },
     "metadata": {
      "needs_background": "light"
     },
     "output_type": "display_data"
    }
   ],
   "source": [
    "plt.figure(figsize=(15, 5))\n",
    "\n",
    "plt.subplot(1, 2, 1)\n",
    "plt.title('Распределение значений температуры')\n",
    "plt.xlabel('temp')\n",
    "plt.hist(df_temp['Температура'], bins=100)\n",
    "\n",
    "plt.subplot(1, 2, 2)\n",
    "plt.title('График изменение температуры со временем')\n",
    "plt.scatter(df_temp['Время замера'], df_temp['Температура'])\n",
    "plt.xlabel('date')\n",
    "plt.ylabel('temp')\n",
    "plt.xticks(rotation=70)\n",
    "plt.show()"
   ]
  },
  {
   "cell_type": "code",
   "execution_count": 34,
   "metadata": {
    "id": "U22p26XVsHTd",
    "outputId": "9c499d68-889a-4731-d628-c7df339f78cf"
   },
   "outputs": [
    {
     "name": "stdout",
     "output_type": "stream",
     "text": [
      "Средняя температура стали: 1591.8409195755805\n"
     ]
    }
   ],
   "source": [
    "print(f'Средняя температура стали: {df_temp[\"Температура\"].mean()}')"
   ]
  },
  {
   "cell_type": "markdown",
   "metadata": {
    "id": "Vy3T4Z8KsHTd"
   },
   "source": [
    "Из графика так же видны аномалии, посмотрим на эти значения..."
   ]
  },
  {
   "cell_type": "code",
   "execution_count": 35,
   "metadata": {
    "id": "Cfi6rxOFsHTd",
    "outputId": "19027aa1-1633-41ad-f0b9-729fb642f5ad"
   },
   "outputs": [
    {
     "data": {
      "text/html": [
       "<div>\n",
       "<style scoped>\n",
       "    .dataframe tbody tr th:only-of-type {\n",
       "        vertical-align: middle;\n",
       "    }\n",
       "\n",
       "    .dataframe tbody tr th {\n",
       "        vertical-align: top;\n",
       "    }\n",
       "\n",
       "    .dataframe thead th {\n",
       "        text-align: right;\n",
       "    }\n",
       "</style>\n",
       "<table border=\"1\" class=\"dataframe\">\n",
       "  <thead>\n",
       "    <tr style=\"text-align: right;\">\n",
       "      <th></th>\n",
       "      <th>key</th>\n",
       "      <th>Время замера</th>\n",
       "      <th>Температура</th>\n",
       "    </tr>\n",
       "  </thead>\n",
       "  <tbody>\n",
       "    <tr>\n",
       "      <th>4350</th>\n",
       "      <td>867</td>\n",
       "      <td>2019-06-04 14:21:00</td>\n",
       "      <td>1191.0</td>\n",
       "    </tr>\n",
       "    <tr>\n",
       "      <th>5978</th>\n",
       "      <td>1214</td>\n",
       "      <td>2019-06-16 05:32:00</td>\n",
       "      <td>1208.0</td>\n",
       "    </tr>\n",
       "    <tr>\n",
       "      <th>7958</th>\n",
       "      <td>1619</td>\n",
       "      <td>2019-06-30 11:03:54</td>\n",
       "      <td>1218.0</td>\n",
       "    </tr>\n",
       "    <tr>\n",
       "      <th>8913</th>\n",
       "      <td>1818</td>\n",
       "      <td>2019-07-07 00:30:49</td>\n",
       "      <td>1383.0</td>\n",
       "    </tr>\n",
       "    <tr>\n",
       "      <th>8914</th>\n",
       "      <td>1818</td>\n",
       "      <td>2019-07-07 00:31:40</td>\n",
       "      <td>1383.0</td>\n",
       "    </tr>\n",
       "    <tr>\n",
       "      <th>10127</th>\n",
       "      <td>2052</td>\n",
       "      <td>2019-07-21 14:51:40</td>\n",
       "      <td>1227.0</td>\n",
       "    </tr>\n",
       "    <tr>\n",
       "      <th>12564</th>\n",
       "      <td>2561</td>\n",
       "      <td>2019-08-08 07:34:15</td>\n",
       "      <td>1204.0</td>\n",
       "    </tr>\n",
       "  </tbody>\n",
       "</table>\n",
       "</div>"
      ],
      "text/plain": [
       "        key        Время замера  Температура\n",
       "4350    867 2019-06-04 14:21:00       1191.0\n",
       "5978   1214 2019-06-16 05:32:00       1208.0\n",
       "7958   1619 2019-06-30 11:03:54       1218.0\n",
       "8913   1818 2019-07-07 00:30:49       1383.0\n",
       "8914   1818 2019-07-07 00:31:40       1383.0\n",
       "10127  2052 2019-07-21 14:51:40       1227.0\n",
       "12564  2561 2019-08-08 07:34:15       1204.0"
      ]
     },
     "execution_count": 35,
     "metadata": {},
     "output_type": "execute_result"
    }
   ],
   "source": [
    "df_temp.query('Температура < 1500')"
   ]
  },
  {
   "cell_type": "markdown",
   "metadata": {},
   "source": [
    "При средней температуры стали в 1500 градусов, эти значения выбиваются. Поэтому удалим их."
   ]
  },
  {
   "cell_type": "code",
   "execution_count": 36,
   "metadata": {
    "id": "FKVRQoVmsHTe"
   },
   "outputs": [],
   "source": [
    "df_temp = df_temp.drop(df_temp.query('Температура < 1500').index)"
   ]
  },
  {
   "cell_type": "code",
   "execution_count": 37,
   "metadata": {
    "id": "VjbSHcoxsHTe",
    "outputId": "9cf26a88-6b83-41fb-c4e4-876a72d4cf3d"
   },
   "outputs": [
    {
     "data": {
      "text/html": [
       "<div>\n",
       "<style scoped>\n",
       "    .dataframe tbody tr th:only-of-type {\n",
       "        vertical-align: middle;\n",
       "    }\n",
       "\n",
       "    .dataframe tbody tr th {\n",
       "        vertical-align: top;\n",
       "    }\n",
       "\n",
       "    .dataframe thead th {\n",
       "        text-align: right;\n",
       "    }\n",
       "</style>\n",
       "<table border=\"1\" class=\"dataframe\">\n",
       "  <thead>\n",
       "    <tr style=\"text-align: right;\">\n",
       "      <th></th>\n",
       "      <th>key</th>\n",
       "      <th>Температура</th>\n",
       "    </tr>\n",
       "  </thead>\n",
       "  <tbody>\n",
       "    <tr>\n",
       "      <th>2538</th>\n",
       "      <td>2561</td>\n",
       "      <td>0</td>\n",
       "    </tr>\n",
       "    <tr>\n",
       "      <th>3215</th>\n",
       "      <td>3241</td>\n",
       "      <td>1</td>\n",
       "    </tr>\n",
       "    <tr>\n",
       "      <th>2785</th>\n",
       "      <td>2809</td>\n",
       "      <td>1</td>\n",
       "    </tr>\n",
       "    <tr>\n",
       "      <th>2784</th>\n",
       "      <td>2808</td>\n",
       "      <td>1</td>\n",
       "    </tr>\n",
       "    <tr>\n",
       "      <th>2783</th>\n",
       "      <td>2807</td>\n",
       "      <td>1</td>\n",
       "    </tr>\n",
       "    <tr>\n",
       "      <th>...</th>\n",
       "      <td>...</td>\n",
       "      <td>...</td>\n",
       "    </tr>\n",
       "    <tr>\n",
       "      <th>1201</th>\n",
       "      <td>1214</td>\n",
       "      <td>15</td>\n",
       "    </tr>\n",
       "    <tr>\n",
       "      <th>2091</th>\n",
       "      <td>2108</td>\n",
       "      <td>15</td>\n",
       "    </tr>\n",
       "    <tr>\n",
       "      <th>41</th>\n",
       "      <td>44</td>\n",
       "      <td>16</td>\n",
       "    </tr>\n",
       "    <tr>\n",
       "      <th>43</th>\n",
       "      <td>46</td>\n",
       "      <td>16</td>\n",
       "    </tr>\n",
       "    <tr>\n",
       "      <th>1498</th>\n",
       "      <td>1513</td>\n",
       "      <td>16</td>\n",
       "    </tr>\n",
       "  </tbody>\n",
       "</table>\n",
       "<p>3216 rows × 2 columns</p>\n",
       "</div>"
      ],
      "text/plain": [
       "       key  Температура\n",
       "2538  2561            0\n",
       "3215  3241            1\n",
       "2785  2809            1\n",
       "2784  2808            1\n",
       "2783  2807            1\n",
       "...    ...          ...\n",
       "1201  1214           15\n",
       "2091  2108           15\n",
       "41      44           16\n",
       "43      46           16\n",
       "1498  1513           16\n",
       "\n",
       "[3216 rows x 2 columns]"
      ]
     },
     "execution_count": 37,
     "metadata": {},
     "output_type": "execute_result"
    }
   ],
   "source": [
    "df_temp.groupby('key', as_index=False)['Температура'].count().sort_values(by='Температура')"
   ]
  },
  {
   "cell_type": "markdown",
   "metadata": {
    "id": "4P5ckq9gsHTf"
   },
   "source": [
    "Еще посмотрим какая была температура у нашей аномалии в данных об электродах, для этого отберем номер партии 2116"
   ]
  },
  {
   "cell_type": "code",
   "execution_count": 38,
   "metadata": {
    "id": "lYMMBR9SsHTf",
    "outputId": "d26c79f0-2a62-4a4f-f371-79c71eb50382"
   },
   "outputs": [
    {
     "data": {
      "text/html": [
       "<div>\n",
       "<style scoped>\n",
       "    .dataframe tbody tr th:only-of-type {\n",
       "        vertical-align: middle;\n",
       "    }\n",
       "\n",
       "    .dataframe tbody tr th {\n",
       "        vertical-align: top;\n",
       "    }\n",
       "\n",
       "    .dataframe thead th {\n",
       "        text-align: right;\n",
       "    }\n",
       "</style>\n",
       "<table border=\"1\" class=\"dataframe\">\n",
       "  <thead>\n",
       "    <tr style=\"text-align: right;\">\n",
       "      <th></th>\n",
       "      <th>key</th>\n",
       "      <th>Время замера</th>\n",
       "      <th>Температура</th>\n",
       "    </tr>\n",
       "  </thead>\n",
       "  <tbody>\n",
       "    <tr>\n",
       "      <th>10462</th>\n",
       "      <td>2116</td>\n",
       "      <td>2019-07-24 00:32:59</td>\n",
       "      <td>1579.0</td>\n",
       "    </tr>\n",
       "    <tr>\n",
       "      <th>10463</th>\n",
       "      <td>2116</td>\n",
       "      <td>2019-07-24 00:44:34</td>\n",
       "      <td>1574.0</td>\n",
       "    </tr>\n",
       "    <tr>\n",
       "      <th>10464</th>\n",
       "      <td>2116</td>\n",
       "      <td>2019-07-24 00:50:58</td>\n",
       "      <td>1578.0</td>\n",
       "    </tr>\n",
       "    <tr>\n",
       "      <th>10465</th>\n",
       "      <td>2116</td>\n",
       "      <td>2019-07-24 00:53:31</td>\n",
       "      <td>1578.0</td>\n",
       "    </tr>\n",
       "  </tbody>\n",
       "</table>\n",
       "</div>"
      ],
      "text/plain": [
       "        key        Время замера  Температура\n",
       "10462  2116 2019-07-24 00:32:59       1579.0\n",
       "10463  2116 2019-07-24 00:44:34       1574.0\n",
       "10464  2116 2019-07-24 00:50:58       1578.0\n",
       "10465  2116 2019-07-24 00:53:31       1578.0"
      ]
     },
     "execution_count": 38,
     "metadata": {},
     "output_type": "execute_result"
    }
   ],
   "source": [
    "df_temp.query('key == 2116')"
   ]
  },
  {
   "cell_type": "markdown",
   "metadata": {
    "id": "cRMT5C7OsHTf"
   },
   "source": [
    "Здесь ничиго не обычного не наблюдается.."
   ]
  },
  {
   "cell_type": "markdown",
   "metadata": {
    "id": "X4eYkJ9DsHTf"
   },
   "source": [
    "### Вывод\n",
    "Значит так, что мы имеем:\n",
    "   - 7 таблиц, которые несут различную информацию по времени, подачи материалов, измерения температуры и данные по электродам.\n",
    "   - Наша задача построить модель которая предскажет температуру в ковше, для уменьшение электропотребления.\n",
    "   \n",
    "Следовательно есть вопрос, от чего зависит температура в ковше, судя по данным она от них не зависит?\n",
    "Средняя температура 1591 градус, то есть она должна не сильно отклоняться от среднего?\n",
    "Так же не понятно, как происходят замеры температуры, сколько всего дожно быть замеров у партии, т.к. у одной партии эти значения варьируются от 1 до 16?\n",
    "Плюс в целевой переменной достаточно много пропусков, и от этих вопросов, будет зависить что с ними делать, удалять или восстанавливать."
   ]
  },
  {
   "cell_type": "markdown",
   "metadata": {
    "id": "7kDhbcuZsHTg"
   },
   "source": [
    "### Примерный план\n",
    "Выяснить, какую задачу мы решаем табличных данных или временных рядов.\n",
    "\n",
    "Если временные ряды, то так как ряд стационарный, можно использовать семейства моделей АРИМА, либо другие регрессионные модели, такие как линейная регреессия и бустинги.\n",
    "\n",
    "Если у нас задачи обычных табличных данных, то подойт все тоже самое, кроме моделей АРИМА\n",
    "   "
   ]
  },
  {
   "cell_type": "markdown",
   "metadata": {
    "id": "udt4iYYEsHTg"
   },
   "source": [
    "<a id='3'>\n",
    "    \n",
    "## 3. Подготовка данных для обучения"
   ]
  },
  {
   "cell_type": "markdown",
   "metadata": {
    "id": "euuDuMiQsHTh"
   },
   "source": [
    "И так мы выяснили, изменение температуры у нас зависит от множество факторов, которые порой тяжело предсказать. Но у нас есть различная информация, которая также имеет влияние на температуру. Следовательно нужно все таблицы объединить в одну. Теперь как мы это будем делать. Нам известен целевой признак, который предстоит предсказывать, это последнее измерение температуры партии, то есть темперетура, которая получается на выходе партии. Какие таблицы у нас имееются:\n",
    "   - data_arc.csv — данные об электродах;\n",
    "   - data_bulk.csv — данные о подаче сыпучих материалов (объём);\n",
    "   - data_bulk_time.csv — данные о подаче сыпучих материалов (время);\n",
    "   - data_gas.csv — данные о продувке сплава газом;\n",
    "   - data_temp.csv — результаты измерения температуры;\n",
    "   - data_wire.csv — данные о проволочных материалах (объём);\n",
    "   - data_wire_time.csv — данные о проволочных материалах (время)\n",
    "\n",
    "Из всех таблиц нам не потребутся только 2 это `data_bulk_time.csv` и `data_wire_time.csv`, потому что данные о времени, когда были добавлены эти присадки, в модели точно не нужны. Данные по температуре и электродам нам придется агрегировать, если по температуре мы знаем какой признак от туда вытянуть, то с электродами не все так очевидно. С этой таблицой нужно поэксперементировать. Во первых, мной в иследовательском анализе были сгенерированы дополнительные фитчи, которые также будут учавствовать в обучение."
   ]
  },
  {
   "cell_type": "markdown",
   "metadata": {
    "id": "EmQy80awsHTh"
   },
   "source": [
    "Для начала сформируем дополнительные фитчи они будут показывать долю активной мощности и отношение активной к реактивной мощности. Сгрупируем все значения по партиям и применим агрегирующую функцию суммы"
   ]
  },
  {
   "cell_type": "code",
   "execution_count": 39,
   "metadata": {
    "id": "kVoKrOj6sHTi",
    "outputId": "1cfae6a2-b1db-4e0e-90fe-d4fd3c72867f"
   },
   "outputs": [
    {
     "data": {
      "text/html": [
       "<div>\n",
       "<style scoped>\n",
       "    .dataframe tbody tr th:only-of-type {\n",
       "        vertical-align: middle;\n",
       "    }\n",
       "\n",
       "    .dataframe tbody tr th {\n",
       "        vertical-align: top;\n",
       "    }\n",
       "\n",
       "    .dataframe thead th {\n",
       "        text-align: right;\n",
       "    }\n",
       "</style>\n",
       "<table border=\"1\" class=\"dataframe\">\n",
       "  <thead>\n",
       "    <tr style=\"text-align: right;\">\n",
       "      <th></th>\n",
       "      <th>key</th>\n",
       "      <th>Начало нагрева дугой</th>\n",
       "      <th>Конец нагрева дугой</th>\n",
       "      <th>Активная мощность</th>\n",
       "      <th>Реактивная мощность</th>\n",
       "      <th>Время нагрева дугой</th>\n",
       "      <th>Полная мощность</th>\n",
       "    </tr>\n",
       "  </thead>\n",
       "  <tbody>\n",
       "    <tr>\n",
       "      <th>0</th>\n",
       "      <td>1</td>\n",
       "      <td>2019-05-03 11:02:14</td>\n",
       "      <td>2019-05-03 11:06:02</td>\n",
       "      <td>0.976059</td>\n",
       "      <td>0.687084</td>\n",
       "      <td>228</td>\n",
       "      <td>1.193639</td>\n",
       "    </tr>\n",
       "    <tr>\n",
       "      <th>1</th>\n",
       "      <td>1</td>\n",
       "      <td>2019-05-03 11:07:28</td>\n",
       "      <td>2019-05-03 11:10:33</td>\n",
       "      <td>0.805607</td>\n",
       "      <td>0.520285</td>\n",
       "      <td>185</td>\n",
       "      <td>0.959010</td>\n",
       "    </tr>\n",
       "    <tr>\n",
       "      <th>2</th>\n",
       "      <td>1</td>\n",
       "      <td>2019-05-03 11:11:44</td>\n",
       "      <td>2019-05-03 11:14:36</td>\n",
       "      <td>0.744363</td>\n",
       "      <td>0.498805</td>\n",
       "      <td>172</td>\n",
       "      <td>0.896038</td>\n",
       "    </tr>\n",
       "    <tr>\n",
       "      <th>3</th>\n",
       "      <td>1</td>\n",
       "      <td>2019-05-03 11:18:14</td>\n",
       "      <td>2019-05-03 11:24:19</td>\n",
       "      <td>1.659363</td>\n",
       "      <td>1.062669</td>\n",
       "      <td>365</td>\n",
       "      <td>1.970470</td>\n",
       "    </tr>\n",
       "    <tr>\n",
       "      <th>4</th>\n",
       "      <td>1</td>\n",
       "      <td>2019-05-03 11:26:09</td>\n",
       "      <td>2019-05-03 11:28:37</td>\n",
       "      <td>0.692755</td>\n",
       "      <td>0.414397</td>\n",
       "      <td>148</td>\n",
       "      <td>0.807239</td>\n",
       "    </tr>\n",
       "  </tbody>\n",
       "</table>\n",
       "</div>"
      ],
      "text/plain": [
       "   key Начало нагрева дугой Конец нагрева дугой  Активная мощность  \\\n",
       "0    1  2019-05-03 11:02:14 2019-05-03 11:06:02           0.976059   \n",
       "1    1  2019-05-03 11:07:28 2019-05-03 11:10:33           0.805607   \n",
       "2    1  2019-05-03 11:11:44 2019-05-03 11:14:36           0.744363   \n",
       "3    1  2019-05-03 11:18:14 2019-05-03 11:24:19           1.659363   \n",
       "4    1  2019-05-03 11:26:09 2019-05-03 11:28:37           0.692755   \n",
       "\n",
       "   Реактивная мощность  Время нагрева дугой  Полная мощность  \n",
       "0             0.687084                  228         1.193639  \n",
       "1             0.520285                  185         0.959010  \n",
       "2             0.498805                  172         0.896038  \n",
       "3             1.062669                  365         1.970470  \n",
       "4             0.414397                  148         0.807239  "
      ]
     },
     "execution_count": 39,
     "metadata": {},
     "output_type": "execute_result"
    }
   ],
   "source": [
    "df_arc.head()"
   ]
  },
  {
   "cell_type": "code",
   "execution_count": 40,
   "metadata": {
    "id": "91JOkBBWsHTi"
   },
   "outputs": [],
   "source": [
    "df_arc['Доля активной мощности'] = df_arc['Активная мощность'] / df_arc['Полная мощность']\n",
    "df_arc['Отношение активной к реактивной мощности'] = df_arc['Активная мощность'] / df_arc['Реактивная мощность']\n",
    "df_arc_group = df_arc.pivot_table(index='key', aggfunc=['sum']).reset_index()\n",
    "df_arc_group.columns = [x + '_' + y for x, y in df_arc_group.columns]\n",
    "df_arc_group = df_arc_group.rename(columns={'key_': 'key'})"
   ]
  },
  {
   "cell_type": "code",
   "execution_count": 41,
   "metadata": {
    "id": "Jx7M-yKAsHTj",
    "outputId": "f14ad818-baa4-45a7-c309-5ec10c62448c",
    "scrolled": true
   },
   "outputs": [
    {
     "data": {
      "text/html": [
       "<div>\n",
       "<style scoped>\n",
       "    .dataframe tbody tr th:only-of-type {\n",
       "        vertical-align: middle;\n",
       "    }\n",
       "\n",
       "    .dataframe tbody tr th {\n",
       "        vertical-align: top;\n",
       "    }\n",
       "\n",
       "    .dataframe thead th {\n",
       "        text-align: right;\n",
       "    }\n",
       "</style>\n",
       "<table border=\"1\" class=\"dataframe\">\n",
       "  <thead>\n",
       "    <tr style=\"text-align: right;\">\n",
       "      <th></th>\n",
       "      <th>key</th>\n",
       "      <th>sum_Активная мощность</th>\n",
       "      <th>sum_Время нагрева дугой</th>\n",
       "      <th>sum_Доля активной мощности</th>\n",
       "      <th>sum_Отношение активной к реактивной мощности</th>\n",
       "      <th>sum_Полная мощность</th>\n",
       "      <th>sum_Реактивная мощность</th>\n",
       "    </tr>\n",
       "  </thead>\n",
       "  <tbody>\n",
       "    <tr>\n",
       "      <th>0</th>\n",
       "      <td>1</td>\n",
       "      <td>4.878147</td>\n",
       "      <td>1098</td>\n",
       "      <td>4.188779</td>\n",
       "      <td>7.694490</td>\n",
       "      <td>5.826395</td>\n",
       "      <td>3.183241</td>\n",
       "    </tr>\n",
       "    <tr>\n",
       "      <th>1</th>\n",
       "      <td>2</td>\n",
       "      <td>3.052598</td>\n",
       "      <td>811</td>\n",
       "      <td>3.360633</td>\n",
       "      <td>6.207336</td>\n",
       "      <td>3.649216</td>\n",
       "      <td>1.998112</td>\n",
       "    </tr>\n",
       "    <tr>\n",
       "      <th>2</th>\n",
       "      <td>3</td>\n",
       "      <td>2.525882</td>\n",
       "      <td>655</td>\n",
       "      <td>4.227104</td>\n",
       "      <td>7.915599</td>\n",
       "      <td>2.989534</td>\n",
       "      <td>1.599076</td>\n",
       "    </tr>\n",
       "    <tr>\n",
       "      <th>3</th>\n",
       "      <td>4</td>\n",
       "      <td>3.209250</td>\n",
       "      <td>741</td>\n",
       "      <td>3.366728</td>\n",
       "      <td>6.253946</td>\n",
       "      <td>3.814962</td>\n",
       "      <td>2.060298</td>\n",
       "    </tr>\n",
       "    <tr>\n",
       "      <th>4</th>\n",
       "      <td>5</td>\n",
       "      <td>3.347173</td>\n",
       "      <td>869</td>\n",
       "      <td>3.312418</td>\n",
       "      <td>5.921711</td>\n",
       "      <td>4.035758</td>\n",
       "      <td>2.252643</td>\n",
       "    </tr>\n",
       "  </tbody>\n",
       "</table>\n",
       "</div>"
      ],
      "text/plain": [
       "   key  sum_Активная мощность  sum_Время нагрева дугой  \\\n",
       "0    1               4.878147                     1098   \n",
       "1    2               3.052598                      811   \n",
       "2    3               2.525882                      655   \n",
       "3    4               3.209250                      741   \n",
       "4    5               3.347173                      869   \n",
       "\n",
       "   sum_Доля активной мощности  sum_Отношение активной к реактивной мощности  \\\n",
       "0                    4.188779                                      7.694490   \n",
       "1                    3.360633                                      6.207336   \n",
       "2                    4.227104                                      7.915599   \n",
       "3                    3.366728                                      6.253946   \n",
       "4                    3.312418                                      5.921711   \n",
       "\n",
       "   sum_Полная мощность  sum_Реактивная мощность  \n",
       "0             5.826395                 3.183241  \n",
       "1             3.649216                 1.998112  \n",
       "2             2.989534                 1.599076  \n",
       "3             3.814962                 2.060298  \n",
       "4             4.035758                 2.252643  "
      ]
     },
     "execution_count": 41,
     "metadata": {},
     "output_type": "execute_result"
    }
   ],
   "source": [
    "df_arc_group.head()"
   ]
  },
  {
   "cell_type": "markdown",
   "metadata": {
    "id": "aLQ89gTWsHTj"
   },
   "source": [
    "Далее перейдем к нашей основной таблице `data_temp.csv`. Сначала мы оттуда выделим дополнительную фитчу, это первое измерение температуры, а целевым признаком у нас будет последняя температура. Пропуски у нас будут только в целевом признаке, и нам они не нужна поэтому сразу удалим"
   ]
  },
  {
   "cell_type": "code",
   "execution_count": 42,
   "metadata": {
    "id": "0aAdEiCbsHTj"
   },
   "outputs": [],
   "source": [
    "df = df_temp.pivot_table(index='key', values='Температура', aggfunc=['first', lambda x: x.iloc[-1]], dropna=False).reset_index()\n",
    "df.columns = ['key', 'Температура на входе', 'Температура на выходе']\n",
    "df = df.dropna()"
   ]
  },
  {
   "cell_type": "code",
   "execution_count": 43,
   "metadata": {
    "id": "Rjv4Pw5ksHTk",
    "outputId": "324618ec-dbae-4a0f-f565-22cb292c5b79"
   },
   "outputs": [
    {
     "data": {
      "text/plain": [
       "(   key  Температура на входе  Температура на выходе\n",
       " 0    1                1571.0                 1613.0\n",
       " 1    2                1581.0                 1602.0\n",
       " 2    3                1596.0                 1599.0\n",
       " 3    4                1601.0                 1625.0\n",
       " 4    5                1576.0                 1602.0,\n",
       " (2477, 3))"
      ]
     },
     "execution_count": 43,
     "metadata": {},
     "output_type": "execute_result"
    }
   ],
   "source": [
    "df.head(), df.shape"
   ]
  },
  {
   "cell_type": "markdown",
   "metadata": {
    "id": "fVXopMUcsHTk"
   },
   "source": [
    "И так нужную таблицу мы обработали, теперь к ней будем крепить остальные признаки"
   ]
  },
  {
   "cell_type": "code",
   "execution_count": 44,
   "metadata": {
    "id": "Y_vA7IqAsHTk",
    "outputId": "45a69474-fbd5-401b-fa9e-e871daea7f15"
   },
   "outputs": [
    {
     "data": {
      "text/plain": [
       "(2477, 18)"
      ]
     },
     "execution_count": 44,
     "metadata": {},
     "output_type": "execute_result"
    }
   ],
   "source": [
    "df = df.merge(df_bulk, on='key', how='left')\n",
    "df.shape"
   ]
  },
  {
   "cell_type": "code",
   "execution_count": 45,
   "metadata": {
    "id": "6veLKl1XsHTl",
    "outputId": "100964da-cd11-4944-cde9-51cdba2669d8"
   },
   "outputs": [
    {
     "data": {
      "text/plain": [
       "(2477, 19)"
      ]
     },
     "execution_count": 45,
     "metadata": {},
     "output_type": "execute_result"
    }
   ],
   "source": [
    "df = df.merge(df_gas, on='key', how='left')\n",
    "df.shape"
   ]
  },
  {
   "cell_type": "code",
   "execution_count": 46,
   "metadata": {
    "id": "mURhU8pFsHTl",
    "outputId": "cf5b3124-f90e-45ef-e0b0-5363075eb99c"
   },
   "outputs": [
    {
     "data": {
      "text/plain": [
       "(2477, 28)"
      ]
     },
     "execution_count": 46,
     "metadata": {},
     "output_type": "execute_result"
    }
   ],
   "source": [
    "df = df.merge(df_wire, on='key', how='left')\n",
    "df.shape"
   ]
  },
  {
   "cell_type": "code",
   "execution_count": 47,
   "metadata": {
    "id": "roEKc5CDsHTl"
   },
   "outputs": [],
   "source": [
    "df = df.merge(df_arc_group, on='key', how='left')"
   ]
  },
  {
   "cell_type": "code",
   "execution_count": 48,
   "metadata": {
    "id": "1frI2jf5sHTl",
    "outputId": "682b7c92-e8f6-4118-8750-14d46a8bb436"
   },
   "outputs": [
    {
     "data": {
      "text/plain": [
       "(2477, 34)"
      ]
     },
     "execution_count": 48,
     "metadata": {},
     "output_type": "execute_result"
    }
   ],
   "source": [
    "df.shape"
   ]
  },
  {
   "cell_type": "markdown",
   "metadata": {
    "id": "bEWVXSB9sHTm"
   },
   "source": [
    "Пропуски в таблице будем считать, что материал не подавался, поэтому заменим их нулями"
   ]
  },
  {
   "cell_type": "code",
   "execution_count": 49,
   "metadata": {
    "id": "uYFhxYCxsHTm"
   },
   "outputs": [],
   "source": [
    "df = df.fillna(0)\n",
    "df = df.set_index('key')"
   ]
  },
  {
   "cell_type": "code",
   "execution_count": 50,
   "metadata": {
    "id": "-Ww1GDVZsHTm",
    "outputId": "19787e34-2b58-4880-9824-752e1ed3f93b"
   },
   "outputs": [
    {
     "name": "stdout",
     "output_type": "stream",
     "text": [
      "<class 'pandas.core.frame.DataFrame'>\n",
      "Int64Index: 2477 entries, 1 to 2499\n",
      "Data columns (total 33 columns):\n",
      " #   Column                                        Non-Null Count  Dtype  \n",
      "---  ------                                        --------------  -----  \n",
      " 0   Температура на входе                          2477 non-null   float64\n",
      " 1   Температура на выходе                         2477 non-null   float64\n",
      " 2   Bulk 1                                        2477 non-null   float64\n",
      " 3   Bulk 2                                        2477 non-null   float64\n",
      " 4   Bulk 3                                        2477 non-null   float64\n",
      " 5   Bulk 4                                        2477 non-null   float64\n",
      " 6   Bulk 5                                        2477 non-null   float64\n",
      " 7   Bulk 6                                        2477 non-null   float64\n",
      " 8   Bulk 7                                        2477 non-null   float64\n",
      " 9   Bulk 8                                        2477 non-null   float64\n",
      " 10  Bulk 9                                        2477 non-null   float64\n",
      " 11  Bulk 10                                       2477 non-null   float64\n",
      " 12  Bulk 11                                       2477 non-null   float64\n",
      " 13  Bulk 12                                       2477 non-null   float64\n",
      " 14  Bulk 13                                       2477 non-null   float64\n",
      " 15  Bulk 14                                       2477 non-null   float64\n",
      " 16  Bulk 15                                       2477 non-null   float64\n",
      " 17  Газ 1                                         2477 non-null   float64\n",
      " 18  Wire 1                                        2477 non-null   float64\n",
      " 19  Wire 2                                        2477 non-null   float64\n",
      " 20  Wire 3                                        2477 non-null   float64\n",
      " 21  Wire 4                                        2477 non-null   float64\n",
      " 22  Wire 5                                        2477 non-null   float64\n",
      " 23  Wire 6                                        2477 non-null   float64\n",
      " 24  Wire 7                                        2477 non-null   float64\n",
      " 25  Wire 8                                        2477 non-null   float64\n",
      " 26  Wire 9                                        2477 non-null   float64\n",
      " 27  sum_Активная мощность                         2477 non-null   float64\n",
      " 28  sum_Время нагрева дугой                       2477 non-null   float64\n",
      " 29  sum_Доля активной мощности                    2477 non-null   float64\n",
      " 30  sum_Отношение активной к реактивной мощности  2477 non-null   float64\n",
      " 31  sum_Полная мощность                           2477 non-null   float64\n",
      " 32  sum_Реактивная мощность                       2477 non-null   float64\n",
      "dtypes: float64(33)\n",
      "memory usage: 658.0 KB\n"
     ]
    }
   ],
   "source": [
    "df.info()"
   ]
  },
  {
   "cell_type": "markdown",
   "metadata": {
    "id": "HnkopmQSsHTn"
   },
   "source": [
    "Признаков получилось не мало, но все они могут оказаться бесполезны, из них нужно отобрать только те, которые хорошо описывают нашу целевую переменную. Посмотрим какая зависимость между признаками и целевой переменной.."
   ]
  },
  {
   "cell_type": "code",
   "execution_count": 51,
   "metadata": {
    "id": "YZzJ7Oi3sHTn",
    "outputId": "2d844d7e-a3f1-43e0-83f4-dfecc10f1f7d",
    "scrolled": false
   },
   "outputs": [
    {
     "data": {
      "image/png": "[encoded data removed]",
      "text/plain": [
       "<Figure size 1080x1800 with 32 Axes>"
      ]
     },
     "metadata": {
      "needs_background": "light"
     },
     "output_type": "display_data"
    }
   ],
   "source": [
    "fig = plt.figure(figsize=(15, 25))\n",
    "subplot = 1\n",
    "plt.suptitle('Зависимость температуры на выходе с другими признаками', y=1.005, fontsize=14)\n",
    "for col in df.drop('Температура на выходе', axis=1).columns:\n",
    "    ax = fig.add_subplot(8, 5, subplot)\n",
    "    plt.scatter('Температура на выходе', col, data=df)\n",
    "    plt.xlabel(col)\n",
    "    plt.ylabel('Температура на выходе')\n",
    "    subplot += 1\n",
    "    \n",
    "plt.tight_layout()\n",
    "plt.show()"
   ]
  },
  {
   "cell_type": "markdown",
   "metadata": {
    "id": "vh_E_ekHsHTn"
   },
   "source": [
    "На таких графиках как температура на входе, Bulk1, сумарное время нагрева дугой, сумарная активная мощность, просматривается линейная зависимость, но и дисперсия остатков там не малая, но в целом применить линейную модель можно.\n",
    "\n",
    "Посмотрим как признаки коррелируют между собой..."
   ]
  },
  {
   "cell_type": "code",
   "execution_count": 52,
   "metadata": {
    "id": "IbAk4EfMsHTn",
    "outputId": "0ffe7ddc-e0a9-4a17-9937-b278324ce24a"
   },
   "outputs": [
    {
     "data": {
      "image/png": "[encoded data removed]",
      "text/plain": [
       "<Figure size 1080x720 with 2 Axes>"
      ]
     },
     "metadata": {
      "needs_background": "light"
     },
     "output_type": "display_data"
    }
   ],
   "source": [
    "plt.figure(figsize=(15, 10))\n",
    "plt.title('Тепловая карата корреляции признаков', fontsize=14, y=1.005)\n",
    "sns.heatmap(df.corr(), cmap='bwr')\n",
    "plt.show()"
   ]
  },
  {
   "cell_type": "markdown",
   "metadata": {
    "id": "7xdEvt_bsHTo"
   },
   "source": [
    "Тут есть прям явные признаки мультиколлиниарности, достаточно сильно между собой коррелируют суммарная активная мощность и сумарное время нагрева дугой и отрицательную коллиниарность имееют суммарная полная мощность и суммарная реактивная мощность. Из графика зависимости целевой переменной от всех принаков видно, что в сумарной активной и реактивной мощности наблюдается ярый выброс, которой в наши данные привносит путаницу, а если его убрать, то все значения станут близкие к 0, и зависимость с целевым признаком будет отсутствовать, поэтому эти 2 признака удалим. Что касается суммарной активной мощности и суммарное время нагрева дугой пока оставим, посмотрим на регрессионной модели какой признак окажется важным."
   ]
  },
  {
   "cell_type": "code",
   "execution_count": 53,
   "metadata": {
    "id": "KafkiI0QsHTo"
   },
   "outputs": [],
   "source": [
    "df = df.drop(['sum_Полная мощность', 'sum_Реактивная мощность'], axis=1)"
   ]
  },
  {
   "cell_type": "code",
   "execution_count": 54,
   "metadata": {
    "id": "wFt7GPqcsHTo",
    "outputId": "26a90764-6eaa-43da-b548-47a98869030c"
   },
   "outputs": [
    {
     "data": {
      "text/html": [
       "<div>\n",
       "<style scoped>\n",
       "    .dataframe tbody tr th:only-of-type {\n",
       "        vertical-align: middle;\n",
       "    }\n",
       "\n",
       "    .dataframe tbody tr th {\n",
       "        vertical-align: top;\n",
       "    }\n",
       "\n",
       "    .dataframe thead th {\n",
       "        text-align: right;\n",
       "    }\n",
       "</style>\n",
       "<table border=\"1\" class=\"dataframe\">\n",
       "  <thead>\n",
       "    <tr style=\"text-align: right;\">\n",
       "      <th></th>\n",
       "      <th>Температура на входе</th>\n",
       "      <th>Температура на выходе</th>\n",
       "      <th>Bulk 1</th>\n",
       "      <th>Bulk 2</th>\n",
       "      <th>Bulk 3</th>\n",
       "      <th>Bulk 4</th>\n",
       "      <th>Bulk 5</th>\n",
       "      <th>Bulk 6</th>\n",
       "      <th>Bulk 7</th>\n",
       "      <th>Bulk 8</th>\n",
       "      <th>...</th>\n",
       "      <th>Wire 4</th>\n",
       "      <th>Wire 5</th>\n",
       "      <th>Wire 6</th>\n",
       "      <th>Wire 7</th>\n",
       "      <th>Wire 8</th>\n",
       "      <th>Wire 9</th>\n",
       "      <th>sum_Активная мощность</th>\n",
       "      <th>sum_Время нагрева дугой</th>\n",
       "      <th>sum_Доля активной мощности</th>\n",
       "      <th>sum_Отношение активной к реактивной мощности</th>\n",
       "    </tr>\n",
       "    <tr>\n",
       "      <th>key</th>\n",
       "      <th></th>\n",
       "      <th></th>\n",
       "      <th></th>\n",
       "      <th></th>\n",
       "      <th></th>\n",
       "      <th></th>\n",
       "      <th></th>\n",
       "      <th></th>\n",
       "      <th></th>\n",
       "      <th></th>\n",
       "      <th></th>\n",
       "      <th></th>\n",
       "      <th></th>\n",
       "      <th></th>\n",
       "      <th></th>\n",
       "      <th></th>\n",
       "      <th></th>\n",
       "      <th></th>\n",
       "      <th></th>\n",
       "      <th></th>\n",
       "      <th></th>\n",
       "    </tr>\n",
       "  </thead>\n",
       "  <tbody>\n",
       "    <tr>\n",
       "      <th>1</th>\n",
       "      <td>1571.0</td>\n",
       "      <td>1613.0</td>\n",
       "      <td>0.0</td>\n",
       "      <td>0.0</td>\n",
       "      <td>0.0</td>\n",
       "      <td>43.0</td>\n",
       "      <td>0.0</td>\n",
       "      <td>0.0</td>\n",
       "      <td>0.0</td>\n",
       "      <td>0.0</td>\n",
       "      <td>...</td>\n",
       "      <td>0.0</td>\n",
       "      <td>0.0</td>\n",
       "      <td>0.0</td>\n",
       "      <td>0.0</td>\n",
       "      <td>0.0</td>\n",
       "      <td>0.0</td>\n",
       "      <td>4.878147</td>\n",
       "      <td>1098.0</td>\n",
       "      <td>4.188779</td>\n",
       "      <td>7.694490</td>\n",
       "    </tr>\n",
       "    <tr>\n",
       "      <th>2</th>\n",
       "      <td>1581.0</td>\n",
       "      <td>1602.0</td>\n",
       "      <td>0.0</td>\n",
       "      <td>0.0</td>\n",
       "      <td>0.0</td>\n",
       "      <td>73.0</td>\n",
       "      <td>0.0</td>\n",
       "      <td>0.0</td>\n",
       "      <td>0.0</td>\n",
       "      <td>0.0</td>\n",
       "      <td>...</td>\n",
       "      <td>0.0</td>\n",
       "      <td>0.0</td>\n",
       "      <td>0.0</td>\n",
       "      <td>0.0</td>\n",
       "      <td>0.0</td>\n",
       "      <td>0.0</td>\n",
       "      <td>3.052598</td>\n",
       "      <td>811.0</td>\n",
       "      <td>3.360633</td>\n",
       "      <td>6.207336</td>\n",
       "    </tr>\n",
       "    <tr>\n",
       "      <th>3</th>\n",
       "      <td>1596.0</td>\n",
       "      <td>1599.0</td>\n",
       "      <td>0.0</td>\n",
       "      <td>0.0</td>\n",
       "      <td>0.0</td>\n",
       "      <td>34.0</td>\n",
       "      <td>0.0</td>\n",
       "      <td>0.0</td>\n",
       "      <td>0.0</td>\n",
       "      <td>0.0</td>\n",
       "      <td>...</td>\n",
       "      <td>0.0</td>\n",
       "      <td>0.0</td>\n",
       "      <td>0.0</td>\n",
       "      <td>0.0</td>\n",
       "      <td>0.0</td>\n",
       "      <td>0.0</td>\n",
       "      <td>2.525882</td>\n",
       "      <td>655.0</td>\n",
       "      <td>4.227104</td>\n",
       "      <td>7.915599</td>\n",
       "    </tr>\n",
       "    <tr>\n",
       "      <th>4</th>\n",
       "      <td>1601.0</td>\n",
       "      <td>1625.0</td>\n",
       "      <td>0.0</td>\n",
       "      <td>0.0</td>\n",
       "      <td>0.0</td>\n",
       "      <td>81.0</td>\n",
       "      <td>0.0</td>\n",
       "      <td>0.0</td>\n",
       "      <td>0.0</td>\n",
       "      <td>0.0</td>\n",
       "      <td>...</td>\n",
       "      <td>0.0</td>\n",
       "      <td>0.0</td>\n",
       "      <td>0.0</td>\n",
       "      <td>0.0</td>\n",
       "      <td>0.0</td>\n",
       "      <td>0.0</td>\n",
       "      <td>3.209250</td>\n",
       "      <td>741.0</td>\n",
       "      <td>3.366728</td>\n",
       "      <td>6.253946</td>\n",
       "    </tr>\n",
       "    <tr>\n",
       "      <th>5</th>\n",
       "      <td>1576.0</td>\n",
       "      <td>1602.0</td>\n",
       "      <td>0.0</td>\n",
       "      <td>0.0</td>\n",
       "      <td>0.0</td>\n",
       "      <td>78.0</td>\n",
       "      <td>0.0</td>\n",
       "      <td>0.0</td>\n",
       "      <td>0.0</td>\n",
       "      <td>0.0</td>\n",
       "      <td>...</td>\n",
       "      <td>0.0</td>\n",
       "      <td>0.0</td>\n",
       "      <td>0.0</td>\n",
       "      <td>0.0</td>\n",
       "      <td>0.0</td>\n",
       "      <td>0.0</td>\n",
       "      <td>3.347173</td>\n",
       "      <td>869.0</td>\n",
       "      <td>3.312418</td>\n",
       "      <td>5.921711</td>\n",
       "    </tr>\n",
       "  </tbody>\n",
       "</table>\n",
       "<p>5 rows × 31 columns</p>\n",
       "</div>"
      ],
      "text/plain": [
       "     Температура на входе  Температура на выходе  Bulk 1  Bulk 2  Bulk 3  \\\n",
       "key                                                                        \n",
       "1                  1571.0                 1613.0     0.0     0.0     0.0   \n",
       "2                  1581.0                 1602.0     0.0     0.0     0.0   \n",
       "3                  1596.0                 1599.0     0.0     0.0     0.0   \n",
       "4                  1601.0                 1625.0     0.0     0.0     0.0   \n",
       "5                  1576.0                 1602.0     0.0     0.0     0.0   \n",
       "\n",
       "     Bulk 4  Bulk 5  Bulk 6  Bulk 7  Bulk 8  ...  Wire 4  Wire 5  Wire 6  \\\n",
       "key                                          ...                           \n",
       "1      43.0     0.0     0.0     0.0     0.0  ...     0.0     0.0     0.0   \n",
       "2      73.0     0.0     0.0     0.0     0.0  ...     0.0     0.0     0.0   \n",
       "3      34.0     0.0     0.0     0.0     0.0  ...     0.0     0.0     0.0   \n",
       "4      81.0     0.0     0.0     0.0     0.0  ...     0.0     0.0     0.0   \n",
       "5      78.0     0.0     0.0     0.0     0.0  ...     0.0     0.0     0.0   \n",
       "\n",
       "     Wire 7  Wire 8  Wire 9  sum_Активная мощность  sum_Время нагрева дугой  \\\n",
       "key                                                                           \n",
       "1       0.0     0.0     0.0               4.878147                   1098.0   \n",
       "2       0.0     0.0     0.0               3.052598                    811.0   \n",
       "3       0.0     0.0     0.0               2.525882                    655.0   \n",
       "4       0.0     0.0     0.0               3.209250                    741.0   \n",
       "5       0.0     0.0     0.0               3.347173                    869.0   \n",
       "\n",
       "     sum_Доля активной мощности  sum_Отношение активной к реактивной мощности  \n",
       "key                                                                            \n",
       "1                      4.188779                                      7.694490  \n",
       "2                      3.360633                                      6.207336  \n",
       "3                      4.227104                                      7.915599  \n",
       "4                      3.366728                                      6.253946  \n",
       "5                      3.312418                                      5.921711  \n",
       "\n",
       "[5 rows x 31 columns]"
      ]
     },
     "execution_count": 54,
     "metadata": {},
     "output_type": "execute_result"
    }
   ],
   "source": [
    "df.head()"
   ]
  },
  {
   "cell_type": "markdown",
   "metadata": {
    "id": "t1RWfn_XsHTo"
   },
   "source": [
    "Таблица готова, теперь разделим данные на тестовую и тренировочную выборку"
   ]
  },
  {
   "cell_type": "code",
   "execution_count": 55,
   "metadata": {
    "id": "o5SiHUjvsHTp"
   },
   "outputs": [],
   "source": [
    "X = df.drop('Температура на выходе', axis=1)\n",
    "y = df['Температура на выходе']"
   ]
  },
  {
   "cell_type": "code",
   "execution_count": 56,
   "metadata": {
    "id": "Hp0jpb93sHTp"
   },
   "outputs": [],
   "source": [
    "X_train, X_test, y_train, y_test = train_test_split(X, y, test_size=0.2, random_state=42)"
   ]
  },
  {
   "cell_type": "markdown",
   "metadata": {
    "id": "9MpwVzbnsHTp"
   },
   "source": [
    "<a id='4'>\n",
    "    \n",
    "## 4. Обучение моделей"
   ]
  },
  {
   "cell_type": "markdown",
   "metadata": {
    "id": "EyFmHQlSsHTp"
   },
   "source": [
    "Начнем с обучения линейной регресси с регуляризаций l1. Этот метод хорош тем, что зануляет коэффициенты тех признаков, которое не привносят никакого вклада. Таким образом мы отберем нужные признаки, и остальные модели будем обучать на них."
   ]
  },
  {
   "cell_type": "code",
   "execution_count": 57,
   "metadata": {
    "id": "NB9eLjELsHTq"
   },
   "outputs": [],
   "source": [
    "# Функция для подбора гиперпараметров модели\n",
    "def gridsearch(model, feature, params, scoring):\n",
    "    gs = GridSearchCV(model, param_grid=params, scoring=scoring, cv=5)\n",
    "    gs.fit(feature, y_train)\n",
    "    scores = np.abs([gs.cv_results_[f'split{i}_test_score'][gs.best_index_] for i in range(5)])\n",
    "    print(f'scores: {scores}')\n",
    "    print(f'mean_scores: {np.abs(gs.cv_results_[\"mean_test_score\"][gs.best_index_])}')\n",
    "    print(f'std_scores: +/-{np.abs(gs.cv_results_[\"std_test_score\"][gs.best_index_])}')\n",
    "    print(f'best_params: {gs.best_params_}')\n",
    "    return gs.best_estimator_"
   ]
  },
  {
   "cell_type": "code",
   "execution_count": 58,
   "metadata": {
    "id": "FlKijLBNsHTq"
   },
   "outputs": [],
   "source": [
    "# Функция для визуализации важности признаков\n",
    "def plot_features_score(model, data, target, column_names):\n",
    "    model.fit(data, target)\n",
    "    (pd.DataFrame({'scores': model['lr'].coef_},\n",
    "                   index=column_names)).sort_values(by='scores',ascending=False).plot(kind='barh', grid=True, figsize=(10,6));"
   ]
  },
  {
   "cell_type": "code",
   "execution_count": 59,
   "metadata": {
    "id": "AvKq0GfXsHTq"
   },
   "outputs": [],
   "source": [
    "# Функция для оценки качества моделей\n",
    "def mae(y_true, y_pred):\n",
    "    return np.sum(abs(y_true - y_pred)) / len(y_true)\n",
    "scoring = make_scorer(mae, greater_is_better=False)"
   ]
  },
  {
   "cell_type": "markdown",
   "metadata": {
    "id": "Z8GlfKWAsHTq"
   },
   "source": [
    "<a id='4.1'>\n",
    "\n",
    "### 4.1 Обучение Lasso и отбор признаков"
   ]
  },
  {
   "cell_type": "code",
   "execution_count": 60,
   "metadata": {
    "id": "v7vQbeRRsHTq"
   },
   "outputs": [],
   "source": [
    "lr = Pipeline([('scaler', StandardScaler()), ('lr', Lasso())])"
   ]
  },
  {
   "cell_type": "code",
   "execution_count": 61,
   "metadata": {
    "id": "lVp8fmWPsHTr"
   },
   "outputs": [],
   "source": [
    "lr_params = {'lr__alpha': np.arange(0, 1, 0.01)}"
   ]
  },
  {
   "cell_type": "code",
   "execution_count": 62,
   "metadata": {
    "id": "Juv5N11UsHTr",
    "outputId": "2931a4a5-4553-4c57-c7c9-51036d52e560"
   },
   "outputs": [
    {
     "name": "stdout",
     "output_type": "stream",
     "text": [
      "scores: [7.57128556 7.37095597 6.70166408 7.34074786 7.87323428]\n",
      "mean_scores: 7.371577552082274\n",
      "std_scores: +/-0.3850396537675523\n",
      "best_params: {'lr__alpha': 0.04}\n",
      "Wall time: 7.23 s\n"
     ]
    }
   ],
   "source": [
    "%%time\n",
    "gr_lr = gridsearch(lr, X_train, lr_params, scoring)"
   ]
  },
  {
   "cell_type": "code",
   "execution_count": 63,
   "metadata": {
    "id": "7Nk0bKfGsHTr",
    "outputId": "2112fe7a-1ef4-45e7-f20b-c1c34bbc4967"
   },
   "outputs": [
    {
     "data": {
      "image/png": "[encoded data removed]",
      "text/plain": [
       "<Figure size 720x432 with 1 Axes>"
      ]
     },
     "metadata": {
      "needs_background": "light"
     },
     "output_type": "display_data"
    }
   ],
   "source": [
    "plot_features_score(gr_lr, X_train, y_train, X_train.columns)"
   ]
  },
  {
   "cell_type": "markdown",
   "metadata": {
    "id": "bmuz50IlsHTr"
   },
   "source": [
    "Как мы видим некоторые признаки обнулены, то есть они не превносят никакого вклада. Отберем нужные признаки, для этого зададим порог 0.3. Выбран исходя из соображений, что не слишком много признаков отсеиваются и превносить вклад будет каждый признак"
   ]
  },
  {
   "cell_type": "code",
   "execution_count": 64,
   "metadata": {
    "id": "dzeFGxtHsHTs"
   },
   "outputs": [],
   "source": [
    "coef = pd.DataFrame({'columns': X_train.columns,\n",
    "                     'coef':gr_lr['lr'].coef_})\n",
    "mask_bool = np.abs(coef['coef']) > 0.3\n",
    "mask = X_train.columns[mask_bool]\n",
    "best_feature = X_train[mask]"
   ]
  },
  {
   "cell_type": "code",
   "execution_count": 65,
   "metadata": {
    "id": "Yj8hC_XQsHTs",
    "outputId": "05998fb7-8517-4763-97d3-09677b4753de"
   },
   "outputs": [
    {
     "name": "stdout",
     "output_type": "stream",
     "text": [
      "scores: [7.37134267 7.3534601  6.68972065 7.32445737 7.89294272]\n",
      "mean_scores: 7.326384704214815\n",
      "std_scores: +/-0.3818604751587473\n",
      "best_params: {'lr__alpha': 0.03}\n",
      "Wall time: 6.07 s\n"
     ]
    }
   ],
   "source": [
    "%%time\n",
    "gr_lr_best = gridsearch(lr, best_feature, lr_params, scoring)"
   ]
  },
  {
   "cell_type": "code",
   "execution_count": 66,
   "metadata": {
    "id": "7z_uwBOrsHTs",
    "outputId": "e8d4d164-da58-4462-d437-5411a6fba3be"
   },
   "outputs": [
    {
     "data": {
      "image/png": "[encoded data removed]",
      "text/plain": [
       "<Figure size 720x432 with 1 Axes>"
      ]
     },
     "metadata": {
      "needs_background": "light"
     },
     "output_type": "display_data"
    }
   ],
   "source": [
    "plot_features_score(gr_lr, best_feature, y_train, best_feature.columns)"
   ]
  },
  {
   "cell_type": "markdown",
   "metadata": {
    "id": "ZVm4K8h1sHTs"
   },
   "source": [
    "Тепьрь как мы можем заметить оценка МАЕ стала немного лучше и все признаки превносят вклад, поэтому будем работать теперь с этими признаками"
   ]
  },
  {
   "cell_type": "markdown",
   "metadata": {
    "id": "8hZw_-iXsHTs"
   },
   "source": [
    "<a id='4.2'>\n",
    "\n",
    "### 4.2 Обучение RandomForestRegressor"
   ]
  },
  {
   "cell_type": "markdown",
   "metadata": {
    "id": "8MQPTCX0sHTt"
   },
   "source": [
    "Теперь оценим как отработает модель случайного леса на этих признаках"
   ]
  },
  {
   "cell_type": "code",
   "execution_count": 67,
   "metadata": {
    "id": "_uIPkssRsHTt"
   },
   "outputs": [],
   "source": [
    "rfr_params = {'max_depth': [10, 11 ,12],\n",
    "              'max_features': [13, 15, 17],\n",
    "              'random_state': [42]}"
   ]
  },
  {
   "cell_type": "code",
   "execution_count": 68,
   "metadata": {
    "id": "e8MNuY8QsHTt",
    "outputId": "aaae5c50-0fce-49bc-b879-14304e07780b"
   },
   "outputs": [
    {
     "name": "stdout",
     "output_type": "stream",
     "text": [
      "scores: [6.35362615 6.41453125 6.2989261  6.61436126 6.35323537]\n",
      "mean_scores: 6.406936027717192\n",
      "std_scores: +/-0.10997705156587305\n",
      "best_params: {'max_depth': 11, 'max_features': 15, 'random_state': 42}\n",
      "Wall time: 37.4 s\n"
     ]
    }
   ],
   "source": [
    "%%time\n",
    "gr_rfr = gridsearch(RandomForestRegressor(), best_feature, rfr_params, scoring)"
   ]
  },
  {
   "cell_type": "markdown",
   "metadata": {
    "id": "U_IU9OalsHTt"
   },
   "source": [
    "Тут мы результат улучшили что может не радовать)"
   ]
  },
  {
   "cell_type": "markdown",
   "metadata": {
    "id": "oSWwNvuGsHTu"
   },
   "source": [
    "<a id='4.3'>\n",
    "\n",
    "### 4.3 Обучение CatBoostRegressor"
   ]
  },
  {
   "cell_type": "code",
   "execution_count": 69,
   "metadata": {
    "id": "tEzhX1P-sHTu"
   },
   "outputs": [],
   "source": [
    "cat_params = {'learning_rate': [0.05, 0.06],\n",
    "              'loss_function': ['MAE'],\n",
    "              'depth': [5, 6],\n",
    "              'verbose': [0]}"
   ]
  },
  {
   "cell_type": "code",
   "execution_count": 70,
   "metadata": {
    "id": "Tw4LsojBsHTu",
    "outputId": "3dd23635-4d74-4798-e5cd-0b4d6f93d81e"
   },
   "outputs": [
    {
     "name": "stdout",
     "output_type": "stream",
     "text": [
      "scores: [6.04889344 6.22329772 5.6217222  6.04238543 6.31422762]\n",
      "mean_scores: 6.050105281443505\n",
      "std_scores: +/-0.23804594550113362\n",
      "best_params: {'depth': 5, 'learning_rate': 0.06, 'loss_function': 'MAE', 'verbose': 0}\n",
      "Wall time: 1min 28s\n"
     ]
    }
   ],
   "source": [
    "%%time\n",
    "gr_cat = gridsearch(CatBoostRegressor(), best_feature, cat_params, scoring)"
   ]
  },
  {
   "cell_type": "markdown",
   "metadata": {
    "id": "NcJe5jkLsHTu"
   },
   "source": [
    "Тут у нас получился самый лучший результат, теперь проверим нашу лучшую модель на тестовых данных\n"
   ]
  },
  {
   "cell_type": "markdown",
   "metadata": {
    "id": "cGJZqYrrsHTv"
   },
   "source": [
    "<a id='5'>\n",
    "\n",
    "## 5. Проверка модели на тестовых данных"
   ]
  },
  {
   "cell_type": "markdown",
   "metadata": {
    "id": "qpGJtIZSsHTv"
   },
   "source": [
    "Но сначала сделаем преобразования и отберем, те признаки которые учавствовали у нас в обучении"
   ]
  },
  {
   "cell_type": "code",
   "execution_count": 71,
   "metadata": {
    "id": "0JCBLkqbsHTv"
   },
   "outputs": [],
   "source": [
    "feature = X_test.columns[mask_bool]\n",
    "feature_test = X_test[feature]"
   ]
  },
  {
   "cell_type": "code",
   "execution_count": 72,
   "metadata": {
    "id": "b42LLP6dsHTw",
    "outputId": "8ba5b362-d4b3-43ea-f8a8-a3a6ed57509d"
   },
   "outputs": [
    {
     "name": "stdout",
     "output_type": "stream",
     "text": [
      "MAE on the test sample: 5.69\n"
     ]
    }
   ],
   "source": [
    "print('MAE on the test sample: {:.3}'.format(mean_absolute_error(y_test, gr_cat.predict(feature_test))))"
   ]
  },
  {
   "cell_type": "markdown",
   "metadata": {
    "id": "ghzSUG_OsHTw"
   },
   "source": [
    "###### И так наша лучшая модель дала оценку МАЕ 5.69 на тестовых данных"
   ]
  },
  {
   "cell_type": "markdown",
   "metadata": {
    "id": "-5TQFImQsHTw"
   },
   "source": [
    "<a id='6'>\n",
    "\n",
    "## 6. Вывод"
   ]
  },
  {
   "cell_type": "markdown",
   "metadata": {
    "id": "OPKtnohasHTw"
   },
   "source": [
    "И так, проведя иследовательский анализ и обучение моделей нам стало понятно, что для предсказания температуры на выходе нам все признаки не нужны, помимо этого есть признаки, которые мы сгенерировали и они внесли очень хороший вклад в описания нашей целевой переменной. Результат оказался достаточно хорошим для предсказания температуры на выходе. Не малый вклад внесла переменная `Температура на входе` этому параметру стоит уделить внимание и она должна быть около 1600 градусов иначе все предсказания поплывут, да и этот параметр важен в дальнейшем нагреве. Если он будет слишком низким придется увеличить время нагрева дугой, от этого затраты мощности будут больше."
   ]
  },
  {
   "cell_type": "markdown",
   "metadata": {
    "id": "lvzmHHDBs1F5"
   },
   "source": [
    "<a id='7'>\n",
    "\n",
    "# 7. Финальный отчет"
   ]
  },
  {
   "cell_type": "markdown",
   "metadata": {
    "id": "iPSK3fLFtRKi"
   },
   "source": [
    "   1. Загрузка данных.\n",
    "\n",
    "Загрузили все данные, кратко помотрели на сами данные их статистические показатели, определили пропуски.\n",
    "\n",
    "   2. Исследовательтский анализ.\n",
    "\n",
    "Посмотрели на зависимость температуры от времени в таблице `df_temp`, определили выбросы и удалили их. Сгененерировали дополнительные признаки в таблице `df_arc`, время нагрева дугой и полная мощнсть. Посмотрели на их распределения, также определили выброс. Задали интересующие вопросы\n",
    "\n",
    "   3. Подготовка данных к обучению.\n",
    "\n",
    "Так как мы не знаем какой признак может себя проявить в обучении, то в таблице `df_arc` сгенерировали еще 2 дополнительные фитчи, отношение активной мощности к реактивной и доля активной мощности, сгрупировали по ключу партии с суммированием по всем признакам. Слегка преобразуем таблицу `df_temp`, данные сгруппируем по ключу партии, вывели целевой признак (последнее измерение температуры) и дополнительный признак для обучения (первое измерение температуры). Произвели слияение всех таблиц в общий датафрейм. Посмотрели как зависит целевая переменная от каждого признака и как коррелируют признаки между собой. Определил 2 бесполезные фитчи (сумма полной мощности и сумма реактивной мощности) удалили их. Разделили данные на тренировачную и тестовую выборки.\n",
    "\n",
    "   4. Обучение модели\n",
    "\n",
    "Так как признаков поулчилось не мало, то первую модель для обучения сделал линейную регрессию с коэффициентом регуляризации L1 (LASSO) произвели расчет МАЕ на кроссвалидации он составил 7.37, так же с помощью нее отобрали нужные признаки для обучения и обучили еще две модели RandomForestRegressor и CatBoostregressor. Получили результаты МАЕ 6.40 и 6.05 соотвественно. Лучший результат показал CatBoostRegressor, ее я и выбрали для дальнейшего продвижения.\n",
    "\n",
    "   5. Проверка модели на тестовых данных.\n",
    "\n",
    "В этом блоке я провел испытания лучшей модели на тестовых данных и получил оценку МАЕ 5.69. "
   ]
  },
  {
   "cell_type": "code",
   "execution_count": null,
   "metadata": {},
   "outputs": [],
   "source": []
  }
 ],
 "metadata": {
  "colab": {
   "collapsed_sections": [
    "X4eYkJ9DsHTf",
    "XT5cj6KFsHTg",
    "7kDhbcuZsHTg",
    "R9uaYoQRsHTg"
   ],
   "name": "notebook.ipynb",
   "provenance": []
  },
  "kernelspec": {
   "display_name": "Python 3",
   "language": "python",
   "name": "python3"
  },
  "language_info": {
   "codemirror_mode": {
    "name": "ipython",
    "version": 3
   },
   "file_extension": ".py",
   "mimetype": "text/x-python",
   "name": "python",
   "nbconvert_exporter": "python",
   "pygments_lexer": "ipython3",
   "version": "3.8.5"
  },
  "toc": {
   "base_numbering": 1,
   "nav_menu": {},
   "number_sections": false,
   "sideBar": true,
   "skip_h1_title": true,
   "title_cell": "Table of Contents",
   "title_sidebar": "Contents",
   "toc_cell": false,
   "toc_position": {},
   "toc_section_display": true,
   "toc_window_display": false
  }
 },
 "nbformat": 4,
 "nbformat_minor": 1
}
